{
 "metadata": {
  "language": "Julia",
  "name": "",
  "signature": "sha256:8519f42589520e039ca347860de1109f49cd26ed5543f1040e9be9e55332a865"
 },
 "nbformat": 3,
 "nbformat_minor": 0,
 "worksheets": [
  {
   "cells": [
    {
     "cell_type": "markdown",
     "metadata": {},
     "source": [
      "# quant-econ Solutions: The Lucas Asset Pricing Model"
     ]
    },
    {
     "cell_type": "markdown",
     "metadata": {},
     "source": [
      "Solutions for http://quant-econ.net/jl/markov_asset.html"
     ]
    },
    {
     "cell_type": "code",
     "collapsed": false,
     "input": [
      "using QuantEcon, QuantEcon.Models\n",
      "using PyPlot"
     ],
     "language": "python",
     "metadata": {},
     "outputs": [
      {
       "output_type": "stream",
       "stream": "stderr",
       "text": [
        "INFO: Loading help data...\n"
       ]
      }
     ],
     "prompt_number": 1
    },
    {
     "cell_type": "markdown",
     "metadata": {},
     "source": [
      "## Exercise 1"
     ]
    },
    {
     "cell_type": "code",
     "collapsed": false,
     "input": [
      "# == Define primitives == #\n",
      "n = 5\n",
      "P = 0.0125 .* ones(n, n) \n",
      "P .+= diagm(0.95 .- 0.0125 .* ones(5))\n",
      "s = [1.05, 1.025, 1.0, 0.975, 0.95]\n",
      "gamm = 2.0\n",
      "bet = 0.94\n",
      "zet = 1.0\n",
      "ap = AssetPrices(bet, P, s, gamm)\n",
      "\n",
      "v = tree_price(ap)\n",
      "println(\"Lucas Tree Prices: $v\\n\")\n",
      "\n",
      "v_consol = consol_price(ap, 1.0)\n",
      "println(\"Consol Bond Prices: $(v_consol)\\n\")\n",
      "\n",
      "P_tilde = P .* s'.^(1-gamm)\n",
      "temp = bet .* (P_tilde * v) + bet * (P_tilde * ones(n))\n",
      "println(\"Should be 0: $(temp - v)\\n\") \n",
      "\n",
      "p_s = 150.0\n",
      "w_bar, w_bars = call_option(ap, zet, p_s, [10, 20, 30])"
     ],
     "language": "python",
     "metadata": {},
     "outputs": [
      {
       "output_type": "stream",
       "stream": "stdout",
       "text": [
        "Lucas Tree Prices: [12.722217630644252,14.725150017725886,17.571422357262904,21.935706611219704,29.474015777145]\n",
        "\n"
       ]
      },
      {
       "output_type": "stream",
       "stream": "stdout",
       "text": [
        "Consol Bond Prices: [87.5686013853112,109.25108965024711,148.67554548466478,242.55144081989457,753.8710047641986]\n",
        "\n",
        "Should be 0: [1.7763568394002505e-15,1.7763568394002505e-15,0.0,0.0,0.0]\n",
        "\n"
       ]
      },
      {
       "metadata": {},
       "output_type": "pyout",
       "prompt_number": 2,
       "text": [
        "([64.3084,80.0518,108.677,176.839,603.871],[30=>[60.6265,74.6761,98.3839,153.805,603.871],10=>[44.7982,50.8141,58.6139,115.698,603.871],20=>[56.7336,68.5191,86.6904,138.46,603.871]])"
       ]
      }
     ],
     "prompt_number": 2
    },
    {
     "cell_type": "markdown",
     "metadata": {},
     "source": [
      "## Exercise 2"
     ]
    },
    {
     "cell_type": "code",
     "collapsed": false,
     "input": [
      "fig, ax = subplots()\n",
      "\n",
      "ax[:set_xlabel](L\"$y$\", fontsize=16)\n",
      "ax[:set_ylabel](\"price\", fontsize=16)\n",
      "\n",
      "for bet in (.95, 0.98)\n",
      "    tree = LucasTree(2.0, bet, 0.90, 0.1)\n",
      "    my_grid, price_vals = compute_lt_price(tree)\n",
      "    label = LaTeXString(\"\\$\\\\beta =$(bet)\\$\")\n",
      "    ax[:plot](my_grid, price_vals, lw=2, alpha=0.7, label=label)\n",
      "    ax[:set_xlim](minimum(my_grid), maximum(my_grid));\n",
      "end\n",
      "\n",
      "ax[:legend](loc=\"upper left\")\n",
      "plt.show()\n"
     ],
     "language": "python",
     "metadata": {},
     "outputs": [
      {
       "output_type": "stream",
       "stream": "stdout",
       "text": [
        "Iteration: 10"
       ]
      },
      {
       "output_type": "stream",
       "stream": "stdout",
       "text": [
        "\t error:0.835991908\n",
        "Iteration: "
       ]
      },
      {
       "output_type": "stream",
       "stream": "stdout",
       "text": [
        "20\t error:0.409779125\n",
        "Iteration: "
       ]
      },
      {
       "output_type": "stream",
       "stream": "stdout",
       "text": [
        "30\t error:0.228549566\n",
        "Iteration: "
       ]
      },
      {
       "output_type": "stream",
       "stream": "stdout",
       "text": [
        "40\t error:0.133427933\n",
        "Iteration: "
       ]
      },
      {
       "output_type": "stream",
       "stream": "stdout",
       "text": [
        "50\t error:0.079153760\n",
        "Iteration: "
       ]
      },
      {
       "output_type": "stream",
       "stream": "stdout",
       "text": [
        "60\t error:0.047239586\n",
        "Iteration: "
       ]
      },
      {
       "output_type": "stream",
       "stream": "stdout",
       "text": [
        "70\t error:0.028426261\n",
        "Iteration: "
       ]
      },
      {
       "output_type": "stream",
       "stream": "stdout",
       "text": [
        "80\t error:0.016904155\n",
        "Iteration: "
       ]
      },
      {
       "output_type": "stream",
       "stream": "stdout",
       "text": [
        "90\t error:0.010123119\n",
        "Iteration: "
       ]
      },
      {
       "output_type": "stream",
       "stream": "stdout",
       "text": [
        "100\t error:0.006066151\n",
        "Iteration: "
       ]
      },
      {
       "output_type": "stream",
       "stream": "stdout",
       "text": [
        "110\t error:0.003638810\n",
        "Iteration: "
       ]
      },
      {
       "output_type": "stream",
       "stream": "stdout",
       "text": [
        "120\t error:0.002186431\n",
        "Iteration: "
       ]
      },
      {
       "output_type": "stream",
       "stream": "stdout",
       "text": [
        "130\t error:0.001317397\n",
        "Iteration: "
       ]
      },
      {
       "output_type": "stream",
       "stream": "stdout",
       "text": [
        "10\t error:1.140843864\n",
        "Iteration: "
       ]
      },
      {
       "output_type": "stream",
       "stream": "stdout",
       "text": [
        "20\t error:0.763130760\n",
        "Iteration: "
       ]
      },
      {
       "output_type": "stream",
       "stream": "stdout",
       "text": [
        "30\t error:0.580837312\n",
        "Iteration: "
       ]
      },
      {
       "output_type": "stream",
       "stream": "stdout",
       "text": [
        "40\t error:0.462749273\n",
        "Iteration: "
       ]
      },
      {
       "output_type": "stream",
       "stream": "stdout",
       "text": [
        "50\t error:0.374623607\n",
        "Iteration: "
       ]
      },
      {
       "output_type": "stream",
       "stream": "stdout",
       "text": [
        "60\t error:0.304983839\n",
        "Iteration: "
       ]
      },
      {
       "output_type": "stream",
       "stream": "stdout",
       "text": [
        "70\t error:0.248775487\n",
        "Iteration: "
       ]
      },
      {
       "output_type": "stream",
       "stream": "stdout",
       "text": [
        "80\t error:0.203064794\n",
        "Iteration: "
       ]
      },
      {
       "output_type": "stream",
       "stream": "stdout",
       "text": [
        "90\t error:0.165792508\n",
        "Iteration: "
       ]
      },
      {
       "output_type": "stream",
       "stream": "stdout",
       "text": [
        "100\t error:0.135372762\n",
        "Iteration: "
       ]
      },
      {
       "output_type": "stream",
       "stream": "stdout",
       "text": [
        "110\t error:0.110537628\n",
        "Iteration: "
       ]
      },
      {
       "output_type": "stream",
       "stream": "stdout",
       "text": [
        "120\t error:0.090259609\n",
        "Iteration: "
       ]
      },
      {
       "output_type": "stream",
       "stream": "stdout",
       "text": [
        "130\t error:0.073701839\n",
        "Iteration: "
       ]
      },
      {
       "output_type": "stream",
       "stream": "stdout",
       "text": [
        "140\t error:0.060181631\n",
        "Iteration: "
       ]
      },
      {
       "output_type": "stream",
       "stream": "stdout",
       "text": [
        "150\t error:0.049141803\n",
        "Iteration: "
       ]
      },
      {
       "output_type": "stream",
       "stream": "stdout",
       "text": [
        "160\t error:0.040126847\n",
        "Iteration: "
       ]
      },
      {
       "output_type": "stream",
       "stream": "stdout",
       "text": [
        "170\t error:0.032765813\n",
        "Iteration: "
       ]
      },
      {
       "output_type": "stream",
       "stream": "stdout",
       "text": [
        "180\t error:0.026755080\n",
        "Iteration: "
       ]
      },
      {
       "output_type": "stream",
       "stream": "stdout",
       "text": [
        "190\t error:0.021847007\n",
        "Iteration: "
       ]
      },
      {
       "output_type": "stream",
       "stream": "stdout",
       "text": [
        "200\t error:0.017839294\n",
        "Iteration: "
       ]
      },
      {
       "output_type": "stream",
       "stream": "stdout",
       "text": [
        "210\t error:0.014566773\n",
        "Iteration: "
       ]
      },
      {
       "output_type": "stream",
       "stream": "stdout",
       "text": [
        "220\t error:0.011894617\n",
        "Iteration: "
       ]
      },
      {
       "output_type": "stream",
       "stream": "stdout",
       "text": [
        "230\t error:0.009712583\n",
        "Iteration: "
       ]
      },
      {
       "output_type": "stream",
       "stream": "stdout",
       "text": [
        "240\t error:0.007930861\n",
        "Iteration: "
       ]
      },
      {
       "output_type": "stream",
       "stream": "stdout",
       "text": [
        "250\t error:0.006475990\n",
        "Iteration: "
       ]
      },
      {
       "output_type": "stream",
       "stream": "stdout",
       "text": [
        "260\t error:0.005288007\n",
        "Iteration: "
       ]
      },
      {
       "output_type": "stream",
       "stream": "stdout",
       "text": [
        "270\t error:0.004317950\n",
        "Iteration: "
       ]
      },
      {
       "output_type": "stream",
       "stream": "stdout",
       "text": [
        "280\t error:0.003525852\n",
        "Iteration: "
       ]
      },
      {
       "output_type": "stream",
       "stream": "stdout",
       "text": [
        "290\t error:0.002879047\n",
        "Iteration: "
       ]
      }
     ]
    },
    {
     "cell_type": "code",
     "collapsed": false,
     "input": [],
     "language": "python",
     "metadata": {},
     "outputs": []
    }
   ],
   "metadata": {}
  }
 ]
}