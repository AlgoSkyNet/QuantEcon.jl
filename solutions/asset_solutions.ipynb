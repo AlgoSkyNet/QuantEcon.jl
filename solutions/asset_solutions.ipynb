{
 "metadata": {
  "language": "Julia",
  "name": "",
  "signature": "sha256:97ac40f105cf56fee46e44da42f65eae8fac6522056b29c395f5422f3c61e8df"
 },
 "nbformat": 3,
 "nbformat_minor": 0,
 "worksheets": [
  {
   "cells": [
    {
     "cell_type": "markdown",
     "metadata": {},
     "source": [
      "# quant-econ Solutions: The Lucas Asset Pricing Model"
     ]
    },
    {
     "cell_type": "markdown",
     "metadata": {},
     "source": [
      "Solutions for http://quant-econ.net/markov_asset.html"
     ]
    },
    {
     "cell_type": "code",
     "collapsed": false,
     "input": [
      "using QuantEcon\n",
      "using PyPlot"
     ],
     "language": "python",
     "metadata": {},
     "outputs": [
      {
       "output_type": "stream",
       "stream": "stderr",
       "text": [
        "INFO: Loading help data...\n"
       ]
      }
     ],
     "prompt_number": 1
    },
    {
     "cell_type": "markdown",
     "metadata": {},
     "source": [
      "## Exercise 1"
     ]
    },
    {
     "cell_type": "code",
     "collapsed": false,
     "input": [
      "\"\"\"\n",
      "Authors: David Evans, Spencer Lyon, John Stachurski and Thomas J. Sargent\n",
      "\"\"\"\n",
      "\n",
      "# == Define primitives == #\n",
      "n = 5\n",
      "P = 0.0125 .* ones(n, n) \n",
      "P .+= diagm(0.95 .- 0.0125 .* ones(5))\n",
      "s = [1.05, 1.025, 1.0, 0.975, 0.95]\n",
      "gamm = 2.0\n",
      "bet = 0.94\n",
      "zet = 1.0\n",
      "ap = AssetPrices(bet, P, s, gamm)\n",
      "\n",
      "v = tree_price(ap)\n",
      "println(\"Lucas Tree Prices: $v\\n\")\n",
      "\n",
      "v_consol = consol_price(ap, 1.0)\n",
      "println(\"Consol Bond Prices: $(v_consol)\\n\")\n",
      "\n",
      "P_tilde = P .* s'.^(1-gamm)\n",
      "temp = bet .* (P_tilde * v) + bet * (P_tilde * ones(n))\n",
      "println(\"Should be 0: $(temp - v)\\n\") \n",
      "\n",
      "p_s = 150.0\n",
      "w_bar, w_bars = call_option(ap, zet, p_s, [10, 20, 30])"
     ],
     "language": "python",
     "metadata": {},
     "outputs": [
      {
       "output_type": "stream",
       "stream": "stdout",
       "text": [
        "Lucas Tree Prices: [12.722217630644252,14.725150017725886,17.571422357262904,21.935706611219704,29.474015777145]\n",
        "\n"
       ]
      },
      {
       "output_type": "stream",
       "stream": "stdout",
       "text": [
        "Consol Bond Prices: [87.5686013853112,109.25108965024711,148.67554548466478,242.55144081989457,753.8710047641986]\n",
        "\n",
        "Should be 0: [1.7763568394002505e-15,1.7763568394002505e-15,0.0,0.0,0.0]\n",
        "\n"
       ]
      },
      {
       "metadata": {},
       "output_type": "pyout",
       "prompt_number": 3,
       "text": [
        "([64.3084,80.0518,108.677,176.839,603.871],[30=>[60.6265,74.6761,98.3839,153.805,603.871],10=>[44.7982,50.8141,58.6139,115.698,603.871],20=>[56.7336,68.5191,86.6904,138.46,603.871]])"
       ]
      }
     ],
     "prompt_number": 3
    },
    {
     "cell_type": "markdown",
     "metadata": {},
     "source": [
      "## Exercise 2"
     ]
    },
    {
     "cell_type": "code",
     "collapsed": false,
     "input": [
      "fig, ax = subplots()\n",
      "\n",
      "ax[:set_xlabel](L\"$y$\", fontsize=16)\n",
      "ax[:set_ylabel](\"price\", fontsize=16)\n",
      "\n",
      "for bet in (.95, 0.98)\n",
      "    tree = LucasTree(2.0, bet, 0.90, 0.1)\n",
      "    my_grid, price_vals = compute_lt_price(tree)\n",
      "    label = LaTeXString(\"\\$\\\\beta =$(bet)\\$\")\n",
      "    ax[:plot](my_grid, price_vals, lw=2, alpha=0.7, label=label)\n",
      "end\n",
      "\n",
      "ax[:legend](loc=\"upper left\")\n",
      "ax[:set_xlim](minimum(my_grid), maximum(my_grid));\n"
     ],
     "language": "python",
     "metadata": {},
     "outputs": [
      {
       "output_type": "stream",
       "stream": "stdout",
       "text": [
        "Iteration: 1"
       ]
      },
      {
       "output_type": "stream",
       "stream": "stdout",
       "text": [
        "\t error:2.180457226\n",
        "Iteration: "
       ]
      },
      {
       "output_type": "stream",
       "stream": "stdout",
       "text": [
        "2\t error:1.893629843\n",
        "Iteration: "
       ]
      },
      {
       "output_type": "stream",
       "stream": "stdout",
       "text": [
        "3\t error:1.670461697\n",
        "Iteration: "
       ]
      },
      {
       "output_type": "stream",
       "stream": "stdout",
       "text": [
        "4\t error:1.487457616\n",
        "Iteration: "
       ]
      },
      {
       "output_type": "stream",
       "stream": "stdout",
       "text": [
        "5\t error:1.334053451\n",
        "Iteration: "
       ]
      },
      {
       "output_type": "stream",
       "stream": "stdout",
       "text": [
        "6\t error:1.203694421\n",
        "Iteration: "
       ]
      },
      {
       "output_type": "stream",
       "stream": "stdout",
       "text": [
        "7\t error:1.091771145\n",
        "Iteration: "
       ]
      },
      {
       "output_type": "stream",
       "stream": "stdout",
       "text": [
        "8\t error:0.994847914\n",
        "Iteration: "
       ]
      },
      {
       "output_type": "stream",
       "stream": "stdout",
       "text": [
        "9\t error:0.910280496\n",
        "Iteration: "
       ]
      },
      {
       "output_type": "stream",
       "stream": "stdout",
       "text": [
        "10\t error:0.835991908\n",
        "Iteration: "
       ]
      },
      {
       "output_type": "stream",
       "stream": "stdout",
       "text": [
        "11\t error:0.770327071\n",
        "Iteration: "
       ]
      },
      {
       "output_type": "stream",
       "stream": "stdout",
       "text": [
        "12\t error:0.711952058\n",
        "Iteration: "
       ]
      },
      {
       "output_type": "stream",
       "stream": "stdout",
       "text": [
        "13\t error:0.659782080\n",
        "Iteration: "
       ]
      },
      {
       "output_type": "stream",
       "stream": "stdout",
       "text": [
        "14\t error:0.612927639\n",
        "Iteration: "
       ]
      },
      {
       "output_type": "stream",
       "stream": "stdout",
       "text": [
        "15\t error:0.570654341\n",
        "Iteration: "
       ]
      },
      {
       "output_type": "stream",
       "stream": "stdout",
       "text": [
        "16\t error:0.532351859\n",
        "Iteration: "
       ]
      },
      {
       "output_type": "stream",
       "stream": "stdout",
       "text": [
        "17\t error:0.497509988\n",
        "Iteration: "
       ]
      },
      {
       "output_type": "stream",
       "stream": "stdout",
       "text": [
        "18\t error:0.465699798\n",
        "Iteration: "
       ]
      },
      {
       "output_type": "stream",
       "stream": "stdout",
       "text": [
        "19\t error:0.436558908\n",
        "Iteration: "
       ]
      },
      {
       "output_type": "stream",
       "stream": "stdout",
       "text": [
        "20\t error:0.409779125\n",
        "Iteration: "
       ]
      },
      {
       "output_type": "stream",
       "stream": "stdout",
       "text": [
        "21\t error:0.385097914\n",
        "Iteration: "
       ]
      },
      {
       "output_type": "stream",
       "stream": "stdout",
       "text": [
        "22\t error:0.362289830\n",
        "Iteration: "
       ]
      },
      {
       "output_type": "stream",
       "stream": "stdout",
       "text": [
        "23\t error:0.341160787\n",
        "Iteration: "
       ]
      },
      {
       "output_type": "stream",
       "stream": "stdout",
       "text": [
        "24\t error:0.321542792\n",
        "Iteration: 25\t error:0.303289942\n",
        "Iteration: "
       ]
      },
      {
       "output_type": "stream",
       "stream": "stdout",
       "text": [
        "26\t error:0.286274824\n",
        "Iteration: "
       ]
      },
      {
       "output_type": "stream",
       "stream": "stdout",
       "text": [
        "27\t error:0.270385857\n",
        "Iteration: 28\t error:0.255524840\n",
        "Iteration: "
       ]
      },
      {
       "output_type": "stream",
       "stream": "stdout",
       "text": [
        "29\t error:0.241605046\n",
        "Iteration: 30\t error:0.228549566\n",
        "Iteration: "
       ]
      },
      {
       "output_type": "stream",
       "stream": "stdout",
       "text": [
        "31\t error:0.216289938\n",
        "Iteration: "
       ]
      },
      {
       "output_type": "stream",
       "stream": "stdout",
       "text": [
        "32\t error:0.204764992\n",
        "Iteration: "
       ]
      },
      {
       "output_type": "stream",
       "stream": "stdout",
       "text": [
        "33\t error:0.193919875\n",
        "Iteration: "
       ]
      },
      {
       "output_type": "stream",
       "stream": "stdout",
       "text": [
        "34\t error:0.183705231\n",
        "Iteration: "
       ]
      },
      {
       "output_type": "stream",
       "stream": "stdout",
       "text": [
        "35\t error:0.174076461\n",
        "Iteration: 36\t error:0.164993253\n",
        "Iteration: "
       ]
      },
      {
       "output_type": "stream",
       "stream": "stdout",
       "text": [
        "37\t error:0.156418842\n",
        "Iteration: "
       ]
      },
      {
       "output_type": "stream",
       "stream": "stdout",
       "text": [
        "38\t error:0.148319793\n",
        "Iteration: "
       ]
      },
      {
       "output_type": "stream",
       "stream": "stdout",
       "text": [
        "39\t error:0.140665506\n",
        "Iteration: "
       ]
      },
      {
       "output_type": "stream",
       "stream": "stdout",
       "text": [
        "40\t error:0.133427933\n",
        "Iteration: "
       ]
      },
      {
       "output_type": "stream",
       "stream": "stdout",
       "text": [
        "41\t error:0.126581282\n",
        "Iteration: "
       ]
      },
      {
       "output_type": "stream",
       "stream": "stdout",
       "text": [
        "42\t error:0.120101808\n",
        "Iteration: "
       ]
      },
      {
       "output_type": "stream",
       "stream": "stdout",
       "text": [
        "43\t error:0.113967507\n",
        "Iteration: 44\t error:0.108158084\n",
        "Iteration: "
       ]
      },
      {
       "output_type": "stream",
       "stream": "stdout",
       "text": [
        "45\t error:0.102654665\n",
        "Iteration: "
       ]
      },
      {
       "output_type": "stream",
       "stream": "stdout",
       "text": [
        "46\t error:0.097439713\n",
        "Iteration: 47\t error:0.092496894\n",
        "Iteration: "
       ]
      },
      {
       "output_type": "stream",
       "stream": "stdout",
       "text": [
        "48\t error:0.087810969\n",
        "Iteration: 49\t error:0.083367700\n",
        "Iteration: "
       ]
      },
      {
       "output_type": "stream",
       "stream": "stdout",
       "text": [
        "50\t error:0.079153760\n",
        "Iteration: "
       ]
      },
      {
       "output_type": "stream",
       "stream": "stdout",
       "text": [
        "51\t error:0.075156664\n",
        "Iteration: 52\t error:0.071364700\n",
        "Iteration: "
       ]
      },
      {
       "output_type": "stream",
       "stream": "stdout",
       "text": [
        "53\t error:0.067766866\n",
        "Iteration: 54\t error:0.064369201\n",
        "Iteration: "
       ]
      },
      {
       "output_type": "stream",
       "stream": "stdout",
       "text": [
        "55\t error:0.061117924\n",
        "Iteration: "
       ]
      },
      {
       "output_type": "stream",
       "stream": "stdout",
       "text": [
        "56\t error:0.058054506\n",
        "Iteration: 57\t error:0.055122696\n",
        "Iteration: "
       ]
      },
      {
       "output_type": "stream",
       "stream": "stdout",
       "text": [
        "58\t error:0.052366156\n",
        "Iteration: 59\t error:0.049721168\n",
        "Iteration: "
       ]
      },
      {
       "output_type": "stream",
       "stream": "stdout",
       "text": [
        "60\t error:0.047239586\n",
        "Iteration: "
       ]
      },
      {
       "output_type": "stream",
       "stream": "stdout",
       "text": [
        "61\t error:0.044852696\n",
        "Iteration: 62\t error:0.042618085\n",
        "Iteration: "
       ]
      },
      {
       "output_type": "stream",
       "stream": "stdout",
       "text": [
        "63\t error:0.040463605\n",
        "Iteration: 64\t error:0.038451086\n",
        "Iteration: "
       ]
      },
      {
       "output_type": "stream",
       "stream": "stdout",
       "text": [
        "65\t error:0.036505967\n",
        "Iteration: "
       ]
      },
      {
       "output_type": "stream",
       "stream": "stdout",
       "text": [
        "66\t error:0.034693286\n",
        "Iteration: 67\t error:0.032936846\n",
        "Iteration: "
       ]
      },
      {
       "output_type": "stream",
       "stream": "stdout",
       "text": [
        "68\t error:0.031304092\n",
        "Iteration: 69\t error:0.029717725\n",
        "Iteration: "
       ]
      },
      {
       "output_type": "stream",
       "stream": "stdout",
       "text": [
        "70\t error:0.028426261\n",
        "Iteration: "
       ]
      },
      {
       "output_type": "stream",
       "stream": "stdout",
       "text": [
        "71\t error:0.026837199\n",
        "Iteration: 72\t error:0.025499226\n",
        "Iteration: "
       ]
      },
      {
       "output_type": "stream",
       "stream": "stdout",
       "text": [
        "73\t error:0.024198106\n",
        "Iteration: 74\t error:0.022999135\n",
        "Iteration: "
       ]
      },
      {
       "output_type": "stream",
       "stream": "stdout",
       "text": [
        "75\t error:0.021828811\n",
        "Iteration: "
       ]
      },
      {
       "output_type": "stream",
       "stream": "stdout",
       "text": [
        "76\t error:0.020754456\n",
        "Iteration: 77\t error:0.019697219\n",
        "Iteration: "
       ]
      },
      {
       "output_type": "stream",
       "stream": "stdout",
       "text": [
        "78\t error:0.018730493\n",
        "Iteration: 79\t error:0.017774611\n",
        "Iteration: "
       ]
      },
      {
       "output_type": "stream",
       "stream": "stdout",
       "text": [
        "80\t error:0.016904155\n",
        "Iteration: "
       ]
      },
      {
       "output_type": "stream",
       "stream": "stdout",
       "text": [
        "81\t error:0.016039682\n",
        "Iteration: "
       ]
      },
      {
       "output_type": "stream",
       "stream": "stdout",
       "text": [
        "82\t error:0.015256063\n",
        "Iteration: "
       ]
      },
      {
       "output_type": "stream",
       "stream": "stdout",
       "text": [
        "83\t error:0.014474094\n",
        "Iteration: 84\t error:0.013768846\n",
        "Iteration: "
       ]
      },
      {
       "output_type": "stream",
       "stream": "stdout",
       "text": [
        "85\t error:0.013061333\n",
        "Iteration: "
       ]
      },
      {
       "output_type": "stream",
       "stream": "stdout",
       "text": [
        "86\t error:0.012426830\n",
        "Iteration: "
       ]
      },
      {
       "output_type": "stream",
       "stream": "stdout",
       "text": [
        "87\t error:0.011786509\n",
        "Iteration: "
       ]
      },
      {
       "output_type": "stream",
       "stream": "stdout",
       "text": [
        "88\t error:0.011215852\n",
        "Iteration: "
       ]
      },
      {
       "output_type": "stream",
       "stream": "stdout",
       "text": [
        "89\t error:0.010636164\n",
        "Iteration: "
       ]
      },
      {
       "output_type": "stream",
       "stream": "stdout",
       "text": [
        "90\t error:0.010123119\n",
        "Iteration: "
       ]
      },
      {
       "output_type": "stream",
       "stream": "stdout",
       "text": [
        "91\t error:0.009598142\n",
        "Iteration: "
       ]
      },
      {
       "output_type": "stream",
       "stream": "stdout",
       "text": [
        "92\t error:0.009137081\n",
        "Iteration: "
       ]
      },
      {
       "output_type": "stream",
       "stream": "stdout",
       "text": [
        "93\t error:0.008661473\n",
        "Iteration: 94\t error:0.008247318\n",
        "Iteration: "
       ]
      },
      {
       "output_type": "stream",
       "stream": "stdout",
       "text": [
        "95\t error:0.007816257\n",
        "Iteration: "
       ]
      },
      {
       "output_type": "stream",
       "stream": "stdout",
       "text": [
        "96\t error:0.007444427\n",
        "Iteration: "
       ]
      },
      {
       "output_type": "stream",
       "stream": "stdout",
       "text": [
        "97\t error:0.007053563\n",
        "Iteration: "
       ]
      },
      {
       "output_type": "stream",
       "stream": "stdout",
       "text": [
        "98\t error:0.006719923\n",
        "Iteration: 99\t error:0.006365331\n",
        "Iteration: "
       ]
      },
      {
       "output_type": "stream",
       "stream": "stdout",
       "text": [
        "100\t error:0.006066151\n",
        "Iteration: 101\t error:0.005744290\n",
        "Iteration: "
       ]
      },
      {
       "output_type": "stream",
       "stream": "stdout",
       "text": [
        "102\t error:0.005476205\n",
        "Iteration: "
       ]
      },
      {
       "output_type": "stream",
       "stream": "stdout",
       "text": [
        "103\t error:0.005183878\n",
        "Iteration: "
       ]
      },
      {
       "output_type": "stream",
       "stream": "stdout",
       "text": [
        "104\t error:0.004943852\n",
        "Iteration: "
       ]
      },
      {
       "output_type": "stream",
       "stream": "stdout",
       "text": [
        "105\t error:0.004678176\n",
        "Iteration: 106\t error:0.004463469\n",
        "Iteration: "
       ]
      },
      {
       "output_type": "stream",
       "stream": "stdout",
       "text": [
        "107\t error:0.004221842\n",
        "Iteration: 108\t error:0.004029981\n",
        "Iteration: "
       ]
      },
      {
       "output_type": "stream",
       "stream": "stdout",
       "text": [
        "109\t error:0.003810055\n",
        "Iteration: "
       ]
      },
      {
       "output_type": "stream",
       "stream": "stdout",
       "text": [
        "110\t error:0.003638810\n",
        "Iteration: "
       ]
      },
      {
       "output_type": "stream",
       "stream": "stdout",
       "text": [
        "111\t error:0.003438467\n",
        "Iteration: "
       ]
      },
      {
       "output_type": "stream",
       "stream": "stdout",
       "text": [
        "112\t error:0.003285824\n",
        "Iteration: 113\t error:0.003103152\n",
        "Iteration: "
       ]
      },
      {
       "output_type": "stream",
       "stream": "stdout",
       "text": [
        "114\t error:0.002967297\n",
        "Iteration: "
       ]
      },
      {
       "output_type": "stream",
       "stream": "stdout",
       "text": [
        "115\t error:0.002800570\n",
        "Iteration: 116\t error:0.002679863\n",
        "Iteration: "
       ]
      },
      {
       "output_type": "stream",
       "stream": "stdout",
       "text": [
        "117\t error:0.002527526\n",
        "Iteration: 118\t error:0.002420487\n",
        "Iteration: "
       ]
      },
      {
       "output_type": "stream",
       "stream": "stdout",
       "text": [
        "119\t error:0.002281135\n",
        "Iteration: "
       ]
      },
      {
       "output_type": "stream",
       "stream": "stdout",
       "text": [
        "120\t error:0.002186431\n",
        "Iteration: 121\t error:0.002058795\n",
        "Iteration: "
       ]
      },
      {
       "output_type": "stream",
       "stream": "stdout",
       "text": [
        "122\t error:0.001975222\n",
        "Iteration: 123\t error:0.001858160\n",
        "Iteration: "
       ]
      },
      {
       "output_type": "stream",
       "stream": "stdout",
       "text": [
        "124\t error:0.001784631\n",
        "Iteration: "
       ]
      },
      {
       "output_type": "stream",
       "stream": "stdout",
       "text": [
        "125\t error:0.001677110\n",
        "Iteration: 126\t error:0.001612644\n",
        "Iteration: "
       ]
      },
      {
       "output_type": "stream",
       "stream": "stdout",
       "text": [
        "127\t error:0.001513733\n",
        "Iteration: 128\t error:0.001457446\n",
        "Iteration: "
       ]
      },
      {
       "output_type": "stream",
       "stream": "stdout",
       "text": [
        "129\t error:0.001366304\n",
        "Iteration: 130\t error:0.001317397\n",
        "Iteration: "
       ]
      },
      {
       "output_type": "stream",
       "stream": "stdout",
       "text": [
        "131\t error:0.001233266\n",
        "Iteration: "
       ]
      },
      {
       "output_type": "stream",
       "stream": "stdout",
       "text": [
        "132\t error:0.001191020\n",
        "Iteration: 133\t error:0.001113215\n",
        "Iteration: "
       ]
      },
      {
       "output_type": "stream",
       "stream": "stdout",
       "text": [
        "134\t error:0.001076978\n",
        "Iteration: 135\t error:0.001004882\n",
        "Iteration: "
       ]
      },
      {
       "output_type": "stream",
       "stream": "stdout",
       "text": [
        "136\t error:0.000974069\n",
        "Iteration: 1\t error:2.249313770\n",
        "Iteration: "
       ]
      },
      {
       "output_type": "stream",
       "stream": "stdout",
       "text": [
        "2\t error:2.015115902\n",
        "Iteration: "
       ]
      },
      {
       "output_type": "stream",
       "stream": "stdout",
       "text": [
        "3\t error:1.833766071\n",
        "Iteration: "
       ]
      },
      {
       "output_type": "stream",
       "stream": "stdout",
       "text": [
        "4\t error:1.684435870\n",
        "Iteration: "
       ]
      },
      {
       "output_type": "stream",
       "stream": "stdout",
       "text": [
        "5\t error:1.558423849\n",
        "Iteration: "
       ]
      },
      {
       "output_type": "stream",
       "stream": "stdout",
       "text": [
        "6\t error:1.450544538\n",
        "Iteration: "
       ]
      },
      {
       "output_type": "stream",
       "stream": "stdout",
       "text": [
        "7\t error:1.357215791\n",
        "Iteration: "
       ]
      },
      {
       "output_type": "stream",
       "stream": "stdout",
       "text": [
        "8\t error:1.275788049\n",
        "Iteration: "
       ]
      },
      {
       "output_type": "stream",
       "stream": "stdout",
       "text": [
        "9\t error:1.204194542\n",
        "Iteration: "
       ]
      },
      {
       "output_type": "stream",
       "stream": "stdout",
       "text": [
        "10\t error:1.140843864\n",
        "Iteration: "
       ]
      },
      {
       "output_type": "stream",
       "stream": "stdout",
       "text": [
        "11\t error:1.084431096\n",
        "Iteration: "
       ]
      },
      {
       "output_type": "stream",
       "stream": "stdout",
       "text": [
        "12\t error:1.033903924\n",
        "Iteration: "
       ]
      },
      {
       "output_type": "stream",
       "stream": "stdout",
       "text": [
        "13\t error:0.988400828\n",
        "Iteration: "
       ]
      },
      {
       "output_type": "stream",
       "stream": "stdout",
       "text": [
        "14\t error:0.947206965\n",
        "Iteration: "
       ]
      },
      {
       "output_type": "stream",
       "stream": "stdout",
       "text": [
        "15\t error:0.909725406\n",
        "Iteration: "
       ]
      },
      {
       "output_type": "stream",
       "stream": "stdout",
       "text": [
        "16\t error:0.875463347\n",
        "Iteration: "
       ]
      },
      {
       "output_type": "stream",
       "stream": "stdout",
       "text": [
        "17\t error:0.844001809\n",
        "Iteration: "
       ]
      },
      {
       "output_type": "stream",
       "stream": "stdout",
       "text": [
        "18\t error:0.814985971\n",
        "Iteration: "
       ]
      },
      {
       "output_type": "stream",
       "stream": "stdout",
       "text": [
        "19\t error:0.788114582\n",
        "Iteration: "
       ]
      },
      {
       "output_type": "stream",
       "stream": "stdout",
       "text": [
        "20\t error:0.763130760\n",
        "Iteration: 21\t error:0.739814482\n",
        "Iteration: "
       ]
      },
      {
       "output_type": "stream",
       "stream": "stdout",
       "text": [
        "22\t error:0.717976691\n",
        "Iteration: "
       ]
      },
      {
       "output_type": "stream",
       "stream": "stdout",
       "text": [
        "23\t error:0.697454398\n",
        "Iteration: 24\t error:0.678106667\n",
        "Iteration: "
       ]
      },
      {
       "output_type": "stream",
       "stream": "stdout",
       "text": [
        "25\t error:0.659811243\n",
        "Iteration: "
       ]
      },
      {
       "output_type": "stream",
       "stream": "stdout",
       "text": [
        "26\t error:0.642461850\n",
        "Iteration: 27\t error:0.625965806\n",
        "Iteration: "
       ]
      },
      {
       "output_type": "stream",
       "stream": "stdout",
       "text": [
        "28\t error:0.610242230\n",
        "Iteration: 29\t error:0.595220133\n",
        "Iteration: "
       ]
      },
      {
       "output_type": "stream",
       "stream": "stdout",
       "text": [
        "30\t error:0.580837312\n",
        "Iteration: "
       ]
      },
      {
       "output_type": "stream",
       "stream": "stdout",
       "text": [
        "31\t error:0.567038949\n",
        "Iteration: 32\t error:0.553776801\n",
        "Iteration: "
       ]
      },
      {
       "output_type": "stream",
       "stream": "stdout",
       "text": [
        "33\t error:0.541008213\n",
        "Iteration: 34\t error:0.528695404\n",
        "Iteration: "
       ]
      },
      {
       "output_type": "stream",
       "stream": "stdout",
       "text": [
        "35\t error:0.516804921\n",
        "Iteration: "
       ]
      },
      {
       "output_type": "stream",
       "stream": "stdout",
       "text": [
        "36\t error:0.505306823\n",
        "Iteration: 37\t error:0.494174721\n",
        "Iteration: "
       ]
      },
      {
       "output_type": "stream",
       "stream": "stdout",
       "text": [
        "38\t error:0.483384847\n",
        "Iteration: 39\t error:0.472916059\n",
        "Iteration: "
       ]
      },
      {
       "output_type": "stream",
       "stream": "stdout",
       "text": [
        "40\t error:0.462749273\n",
        "Iteration: 41\t error:0.452866770\n",
        "Iteration: "
       ]
      },
      {
       "output_type": "stream",
       "stream": "stdout",
       "text": [
        "42\t error:0.443254679\n",
        "Iteration: "
       ]
      },
      {
       "output_type": "stream",
       "stream": "stdout",
       "text": [
        "43\t error:0.433897766\n",
        "Iteration: 44\t error:0.424783676\n",
        "Iteration: "
       ]
      },
      {
       "output_type": "stream",
       "stream": "stdout",
       "text": [
        "45\t error:0.415901027\n",
        "Iteration: 46\t error:0.407239380\n",
        "Iteration: "
       ]
      },
      {
       "output_type": "stream",
       "stream": "stdout",
       "text": [
        "47\t error:0.398789188\n",
        "Iteration: 48\t error:0.390541733\n",
        "Iteration: "
       ]
      },
      {
       "output_type": "stream",
       "stream": "stdout",
       "text": [
        "49\t error:0.382489000\n",
        "Iteration: 50\t error:0.374623607\n",
        "Iteration: "
       ]
      },
      {
       "output_type": "stream",
       "stream": "stdout",
       "text": [
        "51\t error:0.366938750\n",
        "Iteration: 52\t error:0.359428070\n",
        "Iteration: "
       ]
      },
      {
       "output_type": "stream",
       "stream": "stdout",
       "text": [
        "53\t error:0.352085710\n",
        "Iteration: 54\t error:0.344906195\n",
        "Iteration: "
       ]
      },
      {
       "output_type": "stream",
       "stream": "stdout",
       "text": [
        "55\t error:0.337884448\n",
        "Iteration: 56\t error:0.331015653\n",
        "Iteration: "
       ]
      },
      {
       "output_type": "stream",
       "stream": "stdout",
       "text": [
        "57\t error:0.324295323\n",
        "Iteration: 58\t error:0.317719211\n",
        "Iteration: "
       ]
      },
      {
       "output_type": "stream",
       "stream": "stdout",
       "text": [
        "59\t error:0.311283313\n",
        "Iteration: 60\t error:0.304983839\n",
        "Iteration: "
       ]
      },
      {
       "output_type": "stream",
       "stream": "stdout",
       "text": [
        "61\t error:0.298817184\n",
        "Iteration: 62\t error:0.292779917\n",
        "Iteration: "
       ]
      },
      {
       "output_type": "stream",
       "stream": "stdout",
       "text": [
        "63\t error:0.286868773\n",
        "Iteration: 64\t error:0.281080634\n",
        "Iteration: "
       ]
      },
      {
       "output_type": "stream",
       "stream": "stdout",
       "text": [
        "65\t error:0.275412510\n",
        "Iteration: 66\t error:0.269861533\n",
        "Iteration: "
       ]
      },
      {
       "output_type": "stream",
       "stream": "stdout",
       "text": [
        "67\t error:0.264424954\n",
        "Iteration: 68\t error:0.259100106\n",
        "Iteration: "
       ]
      },
      {
       "output_type": "stream",
       "stream": "stdout",
       "text": [
        "69\t error:0.253884438\n",
        "Iteration: 70\t error:0.248775487\n",
        "Iteration: "
       ]
      },
      {
       "output_type": "stream",
       "stream": "stdout",
       "text": [
        "71\t error:0.243770864\n",
        "Iteration: 72\t error:0.238868190\n",
        "Iteration: "
       ]
      },
      {
       "output_type": "stream",
       "stream": "stdout",
       "text": [
        "73\t error:0.234065423\n",
        "Iteration: 74\t error:0.229360217\n",
        "Iteration: "
       ]
      },
      {
       "output_type": "stream",
       "stream": "stdout",
       "text": [
        "75\t error:0.224750501\n",
        "Iteration: 76\t error:0.220234244\n",
        "Iteration: "
       ]
      },
      {
       "output_type": "stream",
       "stream": "stdout",
       "text": [
        "77\t error:0.215809453\n",
        "Iteration: 78\t error:0.211474191\n",
        "Iteration: "
       ]
      },
      {
       "output_type": "stream",
       "stream": "stdout",
       "text": [
        "79\t error:0.207226574\n",
        "Iteration: 80\t error:0.203064794\n",
        "Iteration: "
       ]
      },
      {
       "output_type": "stream",
       "stream": "stdout",
       "text": [
        "81\t error:0.198986986\n",
        "Iteration: 82\t error:0.194991452\n",
        "Iteration: "
       ]
      },
      {
       "output_type": "stream",
       "stream": "stdout",
       "text": [
        "83\t error:0.191076486\n",
        "Iteration: 84\t error:0.187240427\n",
        "Iteration: "
       ]
      },
      {
       "output_type": "stream",
       "stream": "stdout",
       "text": [
        "85\t error:0.183481644\n",
        "Iteration: 86\t error:0.179798549\n",
        "Iteration: "
       ]
      },
      {
       "output_type": "stream",
       "stream": "stdout",
       "text": [
        "87\t error:0.176189589\n",
        "Iteration: 88\t error:0.172653242\n",
        "Iteration: "
       ]
      },
      {
       "output_type": "stream",
       "stream": "stdout",
       "text": [
        "89\t error:0.169188031\n",
        "Iteration: 90\t error:0.165792508\n",
        "Iteration: "
       ]
      },
      {
       "output_type": "stream",
       "stream": "stdout",
       "text": [
        "91\t error:0.162465255\n",
        "Iteration: 92\t error:0.159204888\n",
        "Iteration: "
       ]
      },
      {
       "output_type": "stream",
       "stream": "stdout",
       "text": [
        "93\t error:0.156010045\n",
        "Iteration: "
       ]
      },
      {
       "output_type": "stream",
       "stream": "stdout",
       "text": [
        "94\t error:0.152879402\n",
        "Iteration: 95\t error:0.149811664\n",
        "Iteration: "
       ]
      },
      {
       "output_type": "stream",
       "stream": "stdout",
       "text": [
        "96\t error:0.146805545\n",
        "Iteration: 97\t error:0.143859798\n",
        "Iteration: "
       ]
      },
      {
       "output_type": "stream",
       "stream": "stdout",
       "text": [
        "98\t error:0.140973209\n",
        "Iteration: 99\t error:0.138144588\n",
        "Iteration: "
       ]
      },
      {
       "output_type": "stream",
       "stream": "stdout",
       "text": [
        "100\t error:0.135372762\n",
        "Iteration: 101\t error:0.132656585\n",
        "Iteration: "
       ]
      },
      {
       "output_type": "stream",
       "stream": "stdout",
       "text": [
        "102\t error:0.129994937\n",
        "Iteration: 103\t error:0.127386720\n",
        "Iteration: "
       ]
      },
      {
       "output_type": "stream",
       "stream": "stdout",
       "text": [
        "104\t error:0.124830846\n",
        "Iteration: 105\t error:0.122326293\n",
        "Iteration: "
       ]
      },
      {
       "output_type": "stream",
       "stream": "stdout",
       "text": [
        "106\t error:0.119871995\n",
        "Iteration: 107\t error:0.117466974\n",
        "Iteration: "
       ]
      },
      {
       "output_type": "stream",
       "stream": "stdout",
       "text": [
        "108\t error:0.115110212\n",
        "Iteration: 109\t error:0.112800747\n",
        "Iteration: "
       ]
      },
      {
       "output_type": "stream",
       "stream": "stdout",
       "text": [
        "110\t error:0.110537628\n",
        "Iteration: 111\t error:0.108319925\n",
        "Iteration: "
       ]
      },
      {
       "output_type": "stream",
       "stream": "stdout",
       "text": [
        "112\t error:0.106146725\n",
        "Iteration: 113\t error:0.104017132\n",
        "Iteration: "
       ]
      },
      {
       "output_type": "stream",
       "stream": "stdout",
       "text": [
        "114\t error:0.101930272\n",
        "Iteration: 115\t error:0.099885285\n",
        "Iteration: "
       ]
      },
      {
       "output_type": "stream",
       "stream": "stdout",
       "text": [
        "116\t error:0.097881331\n",
        "Iteration: 117\t error:0.095917586\n",
        "Iteration: "
       ]
      },
      {
       "output_type": "stream",
       "stream": "stdout",
       "text": [
        "118\t error:0.093993243\n",
        "Iteration: 119\t error:0.092107505\n",
        "Iteration: "
       ]
      },
      {
       "output_type": "stream",
       "stream": "stdout",
       "text": [
        "120\t error:0.090259609\n",
        "Iteration: 121\t error:0.088448790\n",
        "Iteration: "
       ]
      },
      {
       "output_type": "stream",
       "stream": "stdout",
       "text": [
        "122\t error:0.086674411\n",
        "Iteration: 123\t error:0.084935415\n",
        "Iteration: "
       ]
      },
      {
       "output_type": "stream",
       "stream": "stdout",
       "text": [
        "124\t error:0.083231417\n",
        "Iteration: 125\t error:0.081561606\n",
        "Iteration: "
       ]
      },
      {
       "output_type": "stream",
       "stream": "stdout",
       "text": [
        "126\t error:0.079925315\n",
        "Iteration: 127\t error:0.078321819\n",
        "Iteration: "
       ]
      },
      {
       "output_type": "stream",
       "stream": "stdout",
       "text": [
        "128\t error:0.076750513\n",
        "Iteration: 129\t error:0.075210731\n",
        "Iteration: "
       ]
      },
      {
       "output_type": "stream",
       "stream": "stdout",
       "text": [
        "130\t error:0.073701839\n",
        "Iteration: 131\t error:0.072223252\n",
        "Iteration: "
       ]
      },
      {
       "output_type": "stream",
       "stream": "stdout",
       "text": [
        "132\t error:0.070774270\n",
        "Iteration: 133\t error:0.069354839\n",
        "Iteration: "
       ]
      },
      {
       "output_type": "stream",
       "stream": "stdout",
       "text": [
        "134\t error:0.067963177\n",
        "Iteration: 135\t error:0.066599532\n",
        "Iteration: "
       ]
      },
      {
       "output_type": "stream",
       "stream": "stdout",
       "text": [
        "136\t error:0.065263401\n",
        "Iteration: 137\t error:0.063954218\n",
        "Iteration: "
       ]
      },
      {
       "output_type": "stream",
       "stream": "stdout",
       "text": [
        "138\t error:0.062671034\n",
        "Iteration: 139\t error:0.061413886\n",
        "Iteration: "
       ]
      },
      {
       "output_type": "stream",
       "stream": "stdout",
       "text": [
        "140\t error:0.060181631\n",
        "Iteration: 141\t error:0.058974261\n",
        "Iteration: "
       ]
      },
      {
       "output_type": "stream",
       "stream": "stdout",
       "text": [
        "142\t error:0.057791111\n",
        "Iteration: 143\t error:0.056631697\n",
        "Iteration: "
       ]
      },
      {
       "output_type": "stream",
       "stream": "stdout",
       "text": [
        "144\t error:0.055495544\n",
        "Iteration: 145\t error:0.054382184\n",
        "Iteration: "
       ]
      },
      {
       "output_type": "stream",
       "stream": "stdout",
       "text": [
        "146\t error:0.053291272\n",
        "Iteration: 147\t error:0.052222080\n",
        "Iteration: "
       ]
      },
      {
       "output_type": "stream",
       "stream": "stdout",
       "text": [
        "148\t error:0.051174353\n",
        "Iteration: 149\t error:0.050147683\n",
        "Iteration: "
       ]
      },
      {
       "output_type": "stream",
       "stream": "stdout",
       "text": [
        "150\t error:0.049141803\n",
        "Iteration: 151\t error:0.048155763\n",
        "Iteration: "
       ]
      },
      {
       "output_type": "stream",
       "stream": "stdout",
       "text": [
        "152\t error:0.047189623\n",
        "Iteration: "
       ]
      },
      {
       "output_type": "stream",
       "stream": "stdout",
       "text": [
        "153\t error:0.046242900\n",
        "Iteration: 154\t error:0.045315240\n",
        "Iteration: "
       ]
      },
      {
       "output_type": "stream",
       "stream": "stdout",
       "text": [
        "155\t error:0.044406473\n",
        "Iteration: "
       ]
      },
      {
       "output_type": "stream",
       "stream": "stdout",
       "text": [
        "156\t error:0.043515179\n",
        "Iteration: 157\t error:0.042643247\n",
        "Iteration: "
       ]
      },
      {
       "output_type": "stream",
       "stream": "stdout",
       "text": [
        "158\t error:0.041786707\n",
        "Iteration: 159\t error:0.040948374\n",
        "Iteration: "
       ]
      },
      {
       "output_type": "stream",
       "stream": "stdout",
       "text": [
        "160\t error:0.040126847\n",
        "Iteration: 161\t error:0.039321813\n",
        "Iteration: "
       ]
      },
      {
       "output_type": "stream",
       "stream": "stdout",
       "text": [
        "162\t error:0.038532935\n",
        "Iteration: 163\t error:0.037760047\n",
        "Iteration: "
       ]
      },
      {
       "output_type": "stream",
       "stream": "stdout",
       "text": [
        "164\t error:0.037002345\n",
        "Iteration: "
       ]
      },
      {
       "output_type": "stream",
       "stream": "stdout",
       "text": [
        "165\t error:0.036259999\n",
        "Iteration: 166\t error:0.035532548\n",
        "Iteration: "
       ]
      },
      {
       "output_type": "stream",
       "stream": "stdout",
       "text": [
        "167\t error:0.034819692\n",
        "Iteration: 168\t error:0.034121136\n",
        "Iteration: "
       ]
      },
      {
       "output_type": "stream",
       "stream": "stdout",
       "text": [
        "169\t error:0.033436595\n",
        "Iteration: 170\t error:0.032765813\n",
        "Iteration: "
       ]
      },
      {
       "output_type": "stream",
       "stream": "stdout",
       "text": [
        "171\t error:0.032108438\n",
        "Iteration: 172\t error:0.031464276\n",
        "Iteration: "
       ]
      },
      {
       "output_type": "stream",
       "stream": "stdout",
       "text": [
        "173\t error:0.030833037\n",
        "Iteration: "
       ]
      },
      {
       "output_type": "stream",
       "stream": "stdout",
       "text": [
        "174\t error:0.030214462\n",
        "Iteration: 175\t error:0.029608297\n",
        "Iteration: "
       ]
      },
      {
       "output_type": "stream",
       "stream": "stdout",
       "text": [
        "176\t error:0.029014293\n",
        "Iteration: 177\t error:0.028432206\n",
        "Iteration: "
       ]
      },
      {
       "output_type": "stream",
       "stream": "stdout",
       "text": [
        "178\t error:0.027861810\n",
        "Iteration: 179\t error:0.027302855\n",
        "Iteration: "
       ]
      },
      {
       "output_type": "stream",
       "stream": "stdout",
       "text": [
        "180\t error:0.026755080\n",
        "Iteration: 181\t error:0.026218317\n",
        "Iteration: "
       ]
      },
      {
       "output_type": "stream",
       "stream": "stdout",
       "text": [
        "182\t error:0.025692323\n",
        "Iteration: "
       ]
      },
      {
       "output_type": "stream",
       "stream": "stdout",
       "text": [
        "183\t error:0.025176882\n",
        "Iteration: 184\t error:0.024671781\n",
        "Iteration: "
       ]
      },
      {
       "output_type": "stream",
       "stream": "stdout",
       "text": [
        "185\t error:0.024176855\n",
        "Iteration: 186\t error:0.023691778\n",
        "Iteration: "
       ]
      },
      {
       "output_type": "stream",
       "stream": "stdout",
       "text": [
        "187\t error:0.023216471\n",
        "Iteration: 188\t error:0.022750741\n",
        "Iteration: "
       ]
      },
      {
       "output_type": "stream",
       "stream": "stdout",
       "text": [
        "189\t error:0.022294279\n",
        "Iteration: "
       ]
      },
      {
       "output_type": "stream",
       "stream": "stdout",
       "text": [
        "190\t error:0.021847007\n",
        "Iteration: 191\t error:0.021408710\n",
        "Iteration: "
       ]
      },
      {
       "output_type": "stream",
       "stream": "stdout",
       "text": [
        "192\t error:0.020979207\n",
        "Iteration: 193\t error:0.020558388\n",
        "Iteration: "
       ]
      },
      {
       "output_type": "stream",
       "stream": "stdout",
       "text": [
        "194\t error:0.020145921\n",
        "Iteration: 195\t error:0.019741722\n",
        "Iteration: "
       ]
      },
      {
       "output_type": "stream",
       "stream": "stdout",
       "text": [
        "196\t error:0.019345654\n",
        "Iteration: 197\t error:0.018957540\n",
        "Iteration: "
       ]
      },
      {
       "output_type": "stream",
       "stream": "stdout",
       "text": [
        "198\t error:0.018577212\n",
        "Iteration: "
       ]
      },
      {
       "output_type": "stream",
       "stream": "stdout",
       "text": [
        "199\t error:0.018204515\n",
        "Iteration: 200\t error:0.017839294\n",
        "Iteration: "
       ]
      },
      {
       "output_type": "stream",
       "stream": "stdout",
       "text": [
        "201\t error:0.017481400\n",
        "Iteration: 202\t error:0.017130687\n",
        "Iteration: "
       ]
      },
      {
       "output_type": "stream",
       "stream": "stdout",
       "text": [
        "203\t error:0.016787010\n",
        "Iteration: 204\t error:0.016450228\n",
        "Iteration: "
       ]
      },
      {
       "output_type": "stream",
       "stream": "stdout",
       "text": [
        "205\t error:0.016120202\n",
        "Iteration: "
       ]
      },
      {
       "output_type": "stream",
       "stream": "stdout",
       "text": [
        "206\t error:0.015797774\n",
        "Iteration: 207\t error:0.015479903\n",
        "Iteration: "
       ]
      },
      {
       "output_type": "stream",
       "stream": "stdout",
       "text": [
        "208\t error:0.015169331\n",
        "Iteration: 209\t error:0.014864998\n",
        "Iteration: "
       ]
      },
      {
       "output_type": "stream",
       "stream": "stdout",
       "text": [
        "210\t error:0.014566773\n",
        "Iteration: 211\t error:0.014274554\n",
        "Iteration: "
       ]
      },
      {
       "output_type": "stream",
       "stream": "stdout",
       "text": [
        "212\t error:0.013988156\n",
        "Iteration: 213\t error:0.013707524\n",
        "Iteration: "
       ]
      },
      {
       "output_type": "stream",
       "stream": "stdout",
       "text": [
        "214\t error:0.013432523\n",
        "Iteration: "
       ]
      },
      {
       "output_type": "stream",
       "stream": "stdout",
       "text": [
        "215\t error:0.013163038\n",
        "Iteration: 216\t error:0.012898961\n",
        "Iteration: "
       ]
      },
      {
       "output_type": "stream",
       "stream": "stdout",
       "text": [
        "217\t error:0.012640181\n",
        "Iteration: 218\t error:0.012386592\n",
        "Iteration: "
       ]
      },
      {
       "output_type": "stream",
       "stream": "stdout",
       "text": [
        "219\t error:0.012138091\n",
        "Iteration: 220\t error:0.011894617\n",
        "Iteration: "
       ]
      },
      {
       "output_type": "stream",
       "stream": "stdout",
       "text": [
        "221\t error:0.011655952\n",
        "Iteration: "
       ]
      },
      {
       "output_type": "stream",
       "stream": "stdout",
       "text": [
        "222\t error:0.011422108\n",
        "Iteration: 223\t error:0.011192976\n",
        "Iteration: "
       ]
      },
      {
       "output_type": "stream",
       "stream": "stdout",
       "text": [
        "224\t error:0.010968402\n",
        "Iteration: 225\t error:0.010748358\n",
        "Iteration: "
       ]
      },
      {
       "output_type": "stream",
       "stream": "stdout",
       "text": [
        "226\t error:0.010532718\n",
        "Iteration: 227\t error:0.010321409\n",
        "Iteration: "
       ]
      },
      {
       "output_type": "stream",
       "stream": "stdout",
       "text": [
        "228\t error:0.010114358\n",
        "Iteration: 229\t error:0.009911427\n",
        "Iteration: "
       ]
      },
      {
       "output_type": "stream",
       "stream": "stdout",
       "text": [
        "230\t error:0.009712583\n",
        "Iteration: "
       ]
      },
      {
       "output_type": "stream",
       "stream": "stdout",
       "text": [
        "231\t error:0.009517728\n",
        "Iteration: 232\t error:0.009326782\n",
        "Iteration: "
       ]
      },
      {
       "output_type": "stream",
       "stream": "stdout",
       "text": [
        "233\t error:0.009139668\n",
        "Iteration: 234\t error:0.008956307\n",
        "Iteration: "
       ]
      },
      {
       "output_type": "stream",
       "stream": "stdout",
       "text": [
        "235\t error:0.008776625\n",
        "Iteration: 236\t error:0.008600548\n",
        "Iteration: "
       ]
      },
      {
       "output_type": "stream",
       "stream": "stdout",
       "text": [
        "237\t error:0.008428003\n",
        "Iteration: "
       ]
      },
      {
       "output_type": "stream",
       "stream": "stdout",
       "text": [
        "238\t error:0.008258919\n",
        "Iteration: 239\t error:0.008093228\n",
        "Iteration: "
       ]
      },
      {
       "output_type": "stream",
       "stream": "stdout",
       "text": [
        "240\t error:0.007930861\n",
        "Iteration: 241\t error:0.007771752\n",
        "Iteration: "
       ]
      },
      {
       "output_type": "stream",
       "stream": "stdout",
       "text": [
        "242\t error:0.007615834\n",
        "Iteration: 243\t error:0.007463045\n",
        "Iteration: "
       ]
      },
      {
       "output_type": "stream",
       "stream": "stdout",
       "text": [
        "244\t error:0.007313430\n",
        "Iteration: 245\t error:0.007166606\n",
        "Iteration: "
       ]
      },
      {
       "output_type": "stream",
       "stream": "stdout",
       "text": [
        "246\t error:0.007022827\n",
        "Iteration: "
       ]
      },
      {
       "output_type": "stream",
       "stream": "stdout",
       "text": [
        "247\t error:0.006881934\n",
        "Iteration: 248\t error:0.006743868\n",
        "Iteration: "
       ]
      },
      {
       "output_type": "stream",
       "stream": "stdout",
       "text": [
        "249\t error:0.006608572\n",
        "Iteration: 250\t error:0.006475990\n",
        "Iteration: "
       ]
      },
      {
       "output_type": "stream",
       "stream": "stdout",
       "text": [
        "251\t error:0.006346068\n",
        "Iteration: 252\t error:0.006218753\n",
        "Iteration: "
       ]
      },
      {
       "output_type": "stream",
       "stream": "stdout",
       "text": [
        "253\t error:0.006093991\n",
        "Iteration: "
       ]
      },
      {
       "output_type": "stream",
       "stream": "stdout",
       "text": [
        "254\t error:0.005971733\n",
        "Iteration: 255\t error:0.005851942\n",
        "Iteration: "
       ]
      },
      {
       "output_type": "stream",
       "stream": "stdout",
       "text": [
        "256\t error:0.005734526\n",
        "Iteration: 257\t error:0.005619480\n",
        "Iteration: "
       ]
      },
      {
       "output_type": "stream",
       "stream": "stdout",
       "text": [
        "258\t error:0.005506826\n",
        "Iteration: 259\t error:0.005396269\n",
        "Iteration: "
       ]
      },
      {
       "output_type": "stream",
       "stream": "stdout",
       "text": [
        "260\t error:0.005288007\n",
        "Iteration: 261\t error:0.005181918\n",
        "Iteration: "
       ]
      },
      {
       "output_type": "stream",
       "stream": "stdout",
       "text": [
        "262\t error:0.005077958\n",
        "Iteration: "
       ]
      },
      {
       "output_type": "stream",
       "stream": "stdout",
       "text": [
        "263\t error:0.004976083\n",
        "Iteration: 264\t error:0.004876375\n",
        "Iteration: "
       ]
      },
      {
       "output_type": "stream",
       "stream": "stdout",
       "text": [
        "265\t error:0.004778447\n",
        "Iteration: 266\t error:0.004682563\n",
        "Iteration: "
       ]
      },
      {
       "output_type": "stream",
       "stream": "stdout",
       "text": [
        "267\t error:0.004588620\n",
        "Iteration: 268\t error:0.004496562\n",
        "Iteration: "
       ]
      },
      {
       "output_type": "stream",
       "stream": "stdout",
       "text": [
        "269\t error:0.004406351\n",
        "Iteration: "
       ]
      },
      {
       "output_type": "stream",
       "stream": "stdout",
       "text": [
        "270\t error:0.004317950\n",
        "Iteration: 271\t error:0.004231323\n",
        "Iteration: "
       ]
      },
      {
       "output_type": "stream",
       "stream": "stdout",
       "text": [
        "272\t error:0.004146434\n",
        "Iteration: 273\t error:0.004063247\n",
        "Iteration: "
       ]
      },
      {
       "output_type": "stream",
       "stream": "stdout",
       "text": [
        "274\t error:0.003981730\n",
        "Iteration: 275\t error:0.003901848\n",
        "Iteration: "
       ]
      },
      {
       "output_type": "stream",
       "stream": "stdout",
       "text": [
        "276\t error:0.003823569\n",
        "Iteration: "
       ]
      },
      {
       "output_type": "stream",
       "stream": "stdout",
       "text": [
        "277\t error:0.003746860\n",
        "Iteration: 278\t error:0.003671690\n",
        "Iteration: "
       ]
      },
      {
       "output_type": "stream",
       "stream": "stdout",
       "text": [
        "279\t error:0.003598028\n",
        "Iteration: 280\t error:0.003525852\n",
        "Iteration: "
       ]
      },
      {
       "output_type": "stream",
       "stream": "stdout",
       "text": [
        "281\t error:0.003455109\n",
        "Iteration: 282\t error:0.003385792\n",
        "Iteration: "
       ]
      },
      {
       "output_type": "stream",
       "stream": "stdout",
       "text": [
        "283\t error:0.003317866\n",
        "Iteration: 284\t error:0.003251303\n",
        "Iteration: "
       ]
      },
      {
       "output_type": "stream",
       "stream": "stdout",
       "text": [
        "285\t error:0.003186075\n",
        "Iteration: "
       ]
      },
      {
       "output_type": "stream",
       "stream": "stdout",
       "text": [
        "286\t error:0.003122155\n",
        "Iteration: 287\t error:0.003059518\n",
        "Iteration: "
       ]
      },
      {
       "output_type": "stream",
       "stream": "stdout",
       "text": [
        "288\t error:0.002998138\n",
        "Iteration: 289\t error:0.002937989\n",
        "Iteration: "
       ]
      },
      {
       "output_type": "stream",
       "stream": "stdout",
       "text": [
        "290\t error:0.002879047\n",
        "Iteration: 291\t error:0.002821287\n",
        "Iteration: "
       ]
      },
      {
       "output_type": "stream",
       "stream": "stdout",
       "text": [
        "292\t error:0.002764686\n",
        "Iteration: "
       ]
      },
      {
       "output_type": "stream",
       "stream": "stdout",
       "text": [
        "293\t error:0.002709221\n",
        "Iteration: 294\t error:0.002654868\n",
        "Iteration: "
       ]
      },
      {
       "output_type": "stream",
       "stream": "stdout",
       "text": [
        "295\t error:0.002601606\n",
        "Iteration: 296\t error:0.002549413\n",
        "Iteration: "
       ]
      },
      {
       "output_type": "stream",
       "stream": "stdout",
       "text": [
        "297\t error:0.002498266\n",
        "Iteration: 298\t error:0.002448146\n",
        "Iteration: "
       ]
      },
      {
       "output_type": "stream",
       "stream": "stdout",
       "text": [
        "299\t error:0.002399071\n",
        "Iteration: 300\t error:0.002350903\n",
        "Iteration: "
       ]
      },
      {
       "output_type": "stream",
       "stream": "stdout",
       "text": [
        "301\t error:0.002303739\n",
        "Iteration: 302\t error:0.002257521\n",
        "Iteration: "
       ]
      },
      {
       "output_type": "stream",
       "stream": "stdout",
       "text": [
        "303\t error:0.002212230\n",
        "Iteration: "
       ]
      },
      {
       "output_type": "stream",
       "stream": "stdout",
       "text": [
        "304\t error:0.002167848\n",
        "Iteration: 305\t error:0.002124356\n",
        "Iteration: "
       ]
      },
      {
       "output_type": "stream",
       "stream": "stdout",
       "text": [
        "306\t error:0.002081737\n",
        "Iteration: 307\t error:0.002039973\n",
        "Iteration: "
       ]
      },
      {
       "output_type": "stream",
       "stream": "stdout",
       "text": [
        "308\t error:0.001999047\n",
        "Iteration: 309\t error:0.001958942\n",
        "Iteration: "
       ]
      },
      {
       "output_type": "stream",
       "stream": "stdout",
       "text": [
        "310\t error:0.001919642\n",
        "Iteration: 311\t error:0.001881130\n",
        "Iteration: "
       ]
      },
      {
       "output_type": "stream",
       "stream": "stdout",
       "text": [
        "312\t error:0.001843390\n",
        "Iteration: "
       ]
      },
      {
       "output_type": "stream",
       "stream": "stdout",
       "text": [
        "313\t error:0.001806408\n",
        "Iteration: 314\t error:0.001770168\n",
        "Iteration: "
       ]
      },
      {
       "output_type": "stream",
       "stream": "stdout",
       "text": [
        "315\t error:0.001734654\n",
        "Iteration: "
       ]
      },
      {
       "output_type": "stream",
       "stream": "stdout",
       "text": [
        "316\t error:0.001699854\n",
        "Iteration: 317\t error:0.001665751\n",
        "Iteration: "
       ]
      },
      {
       "output_type": "stream",
       "stream": "stdout",
       "text": [
        "318\t error:0.001632332\n",
        "Iteration: 319\t error:0.001599584\n",
        "Iteration: "
       ]
      },
      {
       "output_type": "stream",
       "stream": "stdout",
       "text": [
        "320\t error:0.001567493\n",
        "Iteration: 321\t error:0.001536046\n",
        "Iteration: "
       ]
      },
      {
       "output_type": "stream",
       "stream": "stdout",
       "text": [
        "322\t error:0.001505230\n",
        "Iteration: 323\t error:0.001475032\n",
        "Iteration: "
       ]
      },
      {
       "output_type": "stream",
       "stream": "stdout",
       "text": [
        "324\t error:0.001445440\n",
        "Iteration: "
       ]
      },
      {
       "output_type": "stream",
       "stream": "stdout",
       "text": [
        "325\t error:0.001416441\n",
        "Iteration: 326\t error:0.001388024\n",
        "Iteration: "
       ]
      },
      {
       "output_type": "stream",
       "stream": "stdout",
       "text": [
        "327\t error:0.001360178\n",
        "Iteration: 328\t error:0.001332890\n",
        "Iteration: "
       ]
      },
      {
       "output_type": "stream",
       "stream": "stdout",
       "text": [
        "329\t error:0.001306149\n",
        "Iteration: 330\t error:0.001279945\n",
        "Iteration: "
       ]
      },
      {
       "output_type": "stream",
       "stream": "stdout",
       "text": [
        "331\t error:0.001254267\n",
        "Iteration: "
       ]
      },
      {
       "output_type": "stream",
       "stream": "stdout",
       "text": [
        "332\t error:0.001229148\n",
        "Iteration: 333\t error:0.001204446\n",
        "Iteration: "
       ]
      },
      {
       "output_type": "stream",
       "stream": "stdout",
       "text": [
        "334\t error:0.001180282\n",
        "Iteration: 335\t error:0.001156603\n",
        "Iteration: "
       ]
      },
      {
       "output_type": "stream",
       "stream": "stdout",
       "text": [
        "336\t error:0.001133399\n",
        "Iteration: 337\t error:0.001110661\n",
        "Iteration: "
       ]
      },
      {
       "output_type": "stream",
       "stream": "stdout",
       "text": [
        "338\t error:0.001088378\n",
        "Iteration: "
       ]
      },
      {
       "output_type": "stream",
       "stream": "stdout",
       "text": [
        "339\t error:0.001066543\n",
        "Iteration: 340\t error:0.001045146\n",
        "Iteration: "
       ]
      },
      {
       "output_type": "stream",
       "stream": "stdout",
       "text": [
        "341\t error:0.001024178\n",
        "Iteration: 342\t error:0.001003631\n",
        "Iteration: "
       ]
      },
      {
       "output_type": "stream",
       "stream": "stdout",
       "text": [
        "343\t error:0.000983496\n"
       ]
      },
      {
       "metadata": {},
       "output_type": "display_data",
       "png": "[encoded data removed]",
       "text": [
        "Figure(PyObject <matplotlib.figure.Figure object at 0x1176ed650>)"
       ]
      }
     ],
     "prompt_number": 16
    },
    {
     "cell_type": "code",
     "collapsed": false,
     "input": [],
     "language": "python",
     "metadata": {},
     "outputs": [
      {
       "html": [
        "1 method for generic function <b>grid</b>:<ul><li> grid(args...) at <a href=\"https://github.com/stevengj/PyPlot.jl/tree/53bdbdcef3e8f5bac7593179bf338492d9762ac0/src/PyPlot.jl#L250\" target=\"_blank\">/Users/sglyon/.julia/v0.3/PyPlot/src/PyPlot.jl:250</a></ul>"
       ],
       "metadata": {},
       "output_type": "pyout",
       "prompt_number": 10,
       "text": [
        "# 1 method for generic function \"grid\":\n",
        "grid(args...) at /Users/sglyon/.julia/v0.3/PyPlot/src/PyPlot.jl:250"
       ]
      }
     ],
     "prompt_number": 10
    },
    {
     "cell_type": "code",
     "collapsed": false,
     "input": [],
     "language": "python",
     "metadata": {},
     "outputs": []
    }
   ],
   "metadata": {}
  }
 ]
}