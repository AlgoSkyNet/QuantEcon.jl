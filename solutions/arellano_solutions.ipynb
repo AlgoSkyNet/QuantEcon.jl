{
 "cells": [
  {
   "cell_type": "markdown",
   "metadata": {},
   "source": [
    "# quant-econ Solutions: Default Risk and Income Fluctuations"
   ]
  },
  {
   "cell_type": "markdown",
   "metadata": {},
   "source": [
    "Solutions for http://quant-econ.net/jl/arellano.html"
   ]
  },
  {
   "cell_type": "code",
   "execution_count": 7,
   "metadata": {
    "collapsed": false
   },
   "outputs": [
    {
     "name": "stderr",
     "output_type": "stream",
     "text": [
      "Warning: error initializing module PyPlot:\n",
      "ErrorException(\"Failed to pyimport(\"matplotlib\"): PyPlot will not work until you have a functioning matplotlib module.  PyError (:PyImport_ImportModule) <type 'exceptions.ImportError'>\n",
      "ImportError('cannot import name scimath',)\n",
      "  File \"/home/matthewmckay/anaconda/lib/python2.7/site-packages/matplotlib/__init__.py\", line 180, in <module>\n",
      "    from matplotlib.cbook import is_string_like\n",
      "  File \"/home/matthewmckay/anaconda/lib/python2.7/site-packages/matplotlib/cbook.py\", line 33, in <module>\n",
      "    import numpy as np\n",
      "  File \"/home/matthewmckay/anaconda/lib/python2.7/site-packages/numpy/__init__.py\", line 170, in <module>\n",
      "    from . import add_newdocs\n",
      "  File \"/home/matthewmckay/anaconda/lib/python2.7/site-packages/numpy/add_newdocs.py\", line 13, in <module>\n",
      "    from numpy.lib import add_newdoc\n",
      "  File \"/home/matthewmckay/anaconda/lib/python2.7/site-packages/numpy/lib/__init__.py\", line 17, in <module>\n",
      "    from . import scimath as emath\n",
      "\")\n"
     ]
    }
   ],
   "source": [
    "using QuantEcon, QuantEcon.Models\n",
    "using PyPlot"
   ]
  },
  {
   "cell_type": "markdown",
   "metadata": {},
   "source": [
    "Compute the value function, policy and equilibrium prices"
   ]
  },
  {
   "cell_type": "code",
   "execution_count": 4,
   "metadata": {
    "collapsed": false
   },
   "outputs": [
    {
     "data": {
      "text/plain": [
       "ArellanoEconomy(0.953,2.0,0.017,0.945,0.025,0.282,21,251,[0.795083,0.813526,0.832396,0.851704,0.87146,0.891674,0.912357,0.93352,0.955174,0.97733  …  1.0232,1.04693,1.07121,1.09606,1.12149,1.1475,1.17412,1.20135,1.22922,1.25773],[0.795083,0.813526,0.832396,0.851704,0.87146,0.891674,0.912357,0.93352,0.955174,0.97733  …  0.978368,0.978368,0.978368,0.978368,0.978368,0.978368,0.978368,0.978368,0.978368,0.978368],[-0.4,-0.3968,-0.3936,-0.3904,-0.3872,-0.384,-0.3808,-0.3776,-0.3744,-0.3712  …  0.3712,0.3744,0.3776,0.3808,0.384,0.3872,0.3904,0.3936,0.3968,0.4],21x21 Array{Float64,2}:\n",
       " 0.48171      0.326514     0.154936     …  0.0          0.0        \n",
       " 0.180714     0.321116     0.319859        0.0          0.0        \n",
       " 0.0375843    0.156704     0.327656        0.0          0.0        \n",
       " 0.00406984   0.037836     0.166561        0.0          0.0        \n",
       " 0.000221534  0.0044974    0.0419021       0.0          0.0        \n",
       " 5.93963e-6   0.000261594  0.00519128   …  0.0          0.0        \n",
       " 7.74751e-8   7.40023e-6   0.000314833     0.0          0.0        \n",
       " 4.87762e-10  1.01252e-7   9.28938e-6      0.0          0.0        \n",
       " 1.47432e-12  6.66902e-10  1.32607e-7      0.0          0.0        \n",
       " 2.13162e-15  2.1065e-12   9.11489e-10     0.0          0.0        \n",
       " 1.47028e-18  3.18122e-15  3.00515e-12  …  3.21965e-15  0.0        \n",
       " 4.82842e-22  2.29153e-18  4.73782e-15     2.10654e-12  2.10942e-15\n",
       " 7.53825e-26  7.85883e-22  3.56326e-18     6.66902e-10  1.47438e-12\n",
       " 5.5884e-30   1.28132e-25  1.27602e-21     1.01252e-7   4.87762e-10\n",
       " 1.96542e-34  9.92021e-30  2.17252e-25     7.40023e-6   7.74751e-8 \n",
       " 3.27679e-39  3.64377e-34  1.75657e-29  …  0.000261594  5.93963e-6 \n",
       " 2.58824e-44  6.34485e-39  6.73832e-34     0.0044974    0.000221534\n",
       " 9.68068e-50  5.2344e-44   1.22545e-38     0.037836     0.00406984 \n",
       " 1.71384e-55  2.04489e-49  1.05592e-43     0.156704     0.0375843  \n",
       " 1.43563e-61  3.78133e-55  4.30857e-49     0.321116     0.180714   \n",
       " 5.68848e-68  3.30854e-61  8.32181e-55  …  0.326514     0.48171    ,251x21 Array{Float64,2}:\n",
       " 0.0  0.0  0.0  0.0  0.0  0.0  0.0  0.0  …  0.0  0.0  0.0  0.0  0.0  0.0  0.0\n",
       " 0.0  0.0  0.0  0.0  0.0  0.0  0.0  0.0     0.0  0.0  0.0  0.0  0.0  0.0  0.0\n",
       " 0.0  0.0  0.0  0.0  0.0  0.0  0.0  0.0     0.0  0.0  0.0  0.0  0.0  0.0  0.0\n",
       " 0.0  0.0  0.0  0.0  0.0  0.0  0.0  0.0     0.0  0.0  0.0  0.0  0.0  0.0  0.0\n",
       " 0.0  0.0  0.0  0.0  0.0  0.0  0.0  0.0     0.0  0.0  0.0  0.0  0.0  0.0  0.0\n",
       " 0.0  0.0  0.0  0.0  0.0  0.0  0.0  0.0  …  0.0  0.0  0.0  0.0  0.0  0.0  0.0\n",
       " 0.0  0.0  0.0  0.0  0.0  0.0  0.0  0.0     0.0  0.0  0.0  0.0  0.0  0.0  0.0\n",
       " 0.0  0.0  0.0  0.0  0.0  0.0  0.0  0.0     0.0  0.0  0.0  0.0  0.0  0.0  0.0\n",
       " 0.0  0.0  0.0  0.0  0.0  0.0  0.0  0.0     0.0  0.0  0.0  0.0  0.0  0.0  0.0\n",
       " 0.0  0.0  0.0  0.0  0.0  0.0  0.0  0.0     0.0  0.0  0.0  0.0  0.0  0.0  0.0\n",
       " 0.0  0.0  0.0  0.0  0.0  0.0  0.0  0.0  …  0.0  0.0  0.0  0.0  0.0  0.0  0.0\n",
       " 0.0  0.0  0.0  0.0  0.0  0.0  0.0  0.0     0.0  0.0  0.0  0.0  0.0  0.0  0.0\n",
       " 0.0  0.0  0.0  0.0  0.0  0.0  0.0  0.0     0.0  0.0  0.0  0.0  0.0  0.0  0.0\n",
       " ⋮                        ⋮              ⋱       ⋮                        ⋮  \n",
       " 0.0  0.0  0.0  0.0  0.0  0.0  0.0  0.0     0.0  0.0  0.0  0.0  0.0  0.0  0.0\n",
       " 0.0  0.0  0.0  0.0  0.0  0.0  0.0  0.0  …  0.0  0.0  0.0  0.0  0.0  0.0  0.0\n",
       " 0.0  0.0  0.0  0.0  0.0  0.0  0.0  0.0     0.0  0.0  0.0  0.0  0.0  0.0  0.0\n",
       " 0.0  0.0  0.0  0.0  0.0  0.0  0.0  0.0     0.0  0.0  0.0  0.0  0.0  0.0  0.0\n",
       " 0.0  0.0  0.0  0.0  0.0  0.0  0.0  0.0     0.0  0.0  0.0  0.0  0.0  0.0  0.0\n",
       " 0.0  0.0  0.0  0.0  0.0  0.0  0.0  0.0     0.0  0.0  0.0  0.0  0.0  0.0  0.0\n",
       " 0.0  0.0  0.0  0.0  0.0  0.0  0.0  0.0  …  0.0  0.0  0.0  0.0  0.0  0.0  0.0\n",
       " 0.0  0.0  0.0  0.0  0.0  0.0  0.0  0.0     0.0  0.0  0.0  0.0  0.0  0.0  0.0\n",
       " 0.0  0.0  0.0  0.0  0.0  0.0  0.0  0.0     0.0  0.0  0.0  0.0  0.0  0.0  0.0\n",
       " 0.0  0.0  0.0  0.0  0.0  0.0  0.0  0.0     0.0  0.0  0.0  0.0  0.0  0.0  0.0\n",
       " 0.0  0.0  0.0  0.0  0.0  0.0  0.0  0.0     0.0  0.0  0.0  0.0  0.0  0.0  0.0\n",
       " 0.0  0.0  0.0  0.0  0.0  0.0  0.0  0.0  …  0.0  0.0  0.0  0.0  0.0  0.0  0.0,1x21 Array{Float64,2}:\n",
       " 0.0  0.0  0.0  0.0  0.0  0.0  0.0  0.0  …  0.0  0.0  0.0  0.0  0.0  0.0  0.0,251x21 Array{Float64,2}:\n",
       " 0.0  0.0  0.0  0.0  0.0  0.0  0.0  0.0  …  0.0  0.0  0.0  0.0  0.0  0.0  0.0\n",
       " 0.0  0.0  0.0  0.0  0.0  0.0  0.0  0.0     0.0  0.0  0.0  0.0  0.0  0.0  0.0\n",
       " 0.0  0.0  0.0  0.0  0.0  0.0  0.0  0.0     0.0  0.0  0.0  0.0  0.0  0.0  0.0\n",
       " 0.0  0.0  0.0  0.0  0.0  0.0  0.0  0.0     0.0  0.0  0.0  0.0  0.0  0.0  0.0\n",
       " 0.0  0.0  0.0  0.0  0.0  0.0  0.0  0.0     0.0  0.0  0.0  0.0  0.0  0.0  0.0\n",
       " 0.0  0.0  0.0  0.0  0.0  0.0  0.0  0.0  …  0.0  0.0  0.0  0.0  0.0  0.0  0.0\n",
       " 0.0  0.0  0.0  0.0  0.0  0.0  0.0  0.0     0.0  0.0  0.0  0.0  0.0  0.0  0.0\n",
       " 0.0  0.0  0.0  0.0  0.0  0.0  0.0  0.0     0.0  0.0  0.0  0.0  0.0  0.0  0.0\n",
       " 0.0  0.0  0.0  0.0  0.0  0.0  0.0  0.0     0.0  0.0  0.0  0.0  0.0  0.0  0.0\n",
       " 0.0  0.0  0.0  0.0  0.0  0.0  0.0  0.0     0.0  0.0  0.0  0.0  0.0  0.0  0.0\n",
       " 0.0  0.0  0.0  0.0  0.0  0.0  0.0  0.0  …  0.0  0.0  0.0  0.0  0.0  0.0  0.0\n",
       " 0.0  0.0  0.0  0.0  0.0  0.0  0.0  0.0     0.0  0.0  0.0  0.0  0.0  0.0  0.0\n",
       " 0.0  0.0  0.0  0.0  0.0  0.0  0.0  0.0     0.0  0.0  0.0  0.0  0.0  0.0  0.0\n",
       " ⋮                        ⋮              ⋱       ⋮                        ⋮  \n",
       " 0.0  0.0  0.0  0.0  0.0  0.0  0.0  0.0     0.0  0.0  0.0  0.0  0.0  0.0  0.0\n",
       " 0.0  0.0  0.0  0.0  0.0  0.0  0.0  0.0  …  0.0  0.0  0.0  0.0  0.0  0.0  0.0\n",
       " 0.0  0.0  0.0  0.0  0.0  0.0  0.0  0.0     0.0  0.0  0.0  0.0  0.0  0.0  0.0\n",
       " 0.0  0.0  0.0  0.0  0.0  0.0  0.0  0.0     0.0  0.0  0.0  0.0  0.0  0.0  0.0\n",
       " 0.0  0.0  0.0  0.0  0.0  0.0  0.0  0.0     0.0  0.0  0.0  0.0  0.0  0.0  0.0\n",
       " 0.0  0.0  0.0  0.0  0.0  0.0  0.0  0.0     0.0  0.0  0.0  0.0  0.0  0.0  0.0\n",
       " 0.0  0.0  0.0  0.0  0.0  0.0  0.0  0.0  …  0.0  0.0  0.0  0.0  0.0  0.0  0.0\n",
       " 0.0  0.0  0.0  0.0  0.0  0.0  0.0  0.0     0.0  0.0  0.0  0.0  0.0  0.0  0.0\n",
       " 0.0  0.0  0.0  0.0  0.0  0.0  0.0  0.0     0.0  0.0  0.0  0.0  0.0  0.0  0.0\n",
       " 0.0  0.0  0.0  0.0  0.0  0.0  0.0  0.0     0.0  0.0  0.0  0.0  0.0  0.0  0.0\n",
       " 0.0  0.0  0.0  0.0  0.0  0.0  0.0  0.0     0.0  0.0  0.0  0.0  0.0  0.0  0.0\n",
       " 0.0  0.0  0.0  0.0  0.0  0.0  0.0  0.0  …  0.0  0.0  0.0  0.0  0.0  0.0  0.0,251x21 Array{Float64,2}:\n",
       " 1.84678e8   7.05665e12     8.0         …   1.75182e8      -4.0       \n",
       " 1.65899e8   1.7059e8       1.70592e8      -4.0            64.0       \n",
       " 0.0         1.7059e8       1.70592e8       1.75182e8      -9.22337e18\n",
       " 0.0         5.0            1.70592e8       0.0            64.0       \n",
       " 1.70588e8   4.29497e9      1.70591e8       1.75182e8       9.22337e18\n",
       " 1.70588e8   0.0            4.29497e9   …   1.0             1.88079e8 \n",
       " 1.70588e8   0.0            1.0            -4.0            64.0       \n",
       " 1.70588e8   6.61425e12     1.70591e8      64.0            -1.0       \n",
       " 4.29497e9   1.28849e10     4.29497e9      -9.22337e18     64.0       \n",
       " 0.0         6.01295e10     0.0            64.0            -1.0       \n",
       " 1.70608e8   0.0         4112.0         …   9.22337e18     -4.0       \n",
       " 1.70588e8   0.0         4112.0            -4.0             1.75173e8 \n",
       " 0.0         0.0         4096.0            64.0             0.0       \n",
       " ⋮                                      ⋱                   ⋮         \n",
       " 1.7059e8    1.70592e8      0.0            64.0            -9.22337e18\n",
       " 1.7059e8    1.70593e8      7.14683e12  …   9.0         42096.0       \n",
       " 1.7059e8    4.29497e9     -9.22337e18     -4.0          7184.0       \n",
       " 1.70589e8   1.0            2.57698e10     64.0            -4.0       \n",
       " 4.29497e9   1.70592e8      0.0            -9.22337e18      1.40576e14\n",
       " 1.0         4.29497e9      0.0            64.0             1.7063e8  \n",
       " 1.70593e8   0.0            0.0         …  -9.22337e18      1.7063e8  \n",
       " 1.40576e14  0.0            7.96567e7      -4.0             1.40576e14\n",
       " 0.0         1.70592e8      0.0            64.0             1.49444e8 \n",
       " 1.7059e8    0.0            1.70594e8      -9.22337e18      1.84999e8 \n",
       " 4.29497e9   5.21969e7      0.0            64.0             1.8808e8  \n",
       " 0.0         0.0            1.70594e8   …   9.22337e18      1.84999e8 ,251x21 Array{Float64,2}:\n",
       " 0.983284  0.983284  0.983284  0.983284  …  0.983284  0.983284  0.983284\n",
       " 0.983284  0.983284  0.983284  0.983284     0.983284  0.983284  0.983284\n",
       " 0.983284  0.983284  0.983284  0.983284     0.983284  0.983284  0.983284\n",
       " 0.983284  0.983284  0.983284  0.983284     0.983284  0.983284  0.983284\n",
       " 0.983284  0.983284  0.983284  0.983284     0.983284  0.983284  0.983284\n",
       " 0.983284  0.983284  0.983284  0.983284  …  0.983284  0.983284  0.983284\n",
       " 0.983284  0.983284  0.983284  0.983284     0.983284  0.983284  0.983284\n",
       " 0.983284  0.983284  0.983284  0.983284     0.983284  0.983284  0.983284\n",
       " 0.983284  0.983284  0.983284  0.983284     0.983284  0.983284  0.983284\n",
       " 0.983284  0.983284  0.983284  0.983284     0.983284  0.983284  0.983284\n",
       " 0.983284  0.983284  0.983284  0.983284  …  0.983284  0.983284  0.983284\n",
       " 0.983284  0.983284  0.983284  0.983284     0.983284  0.983284  0.983284\n",
       " 0.983284  0.983284  0.983284  0.983284     0.983284  0.983284  0.983284\n",
       " ⋮                                       ⋱                      ⋮       \n",
       " 0.983284  0.983284  0.983284  0.983284     0.983284  0.983284  0.983284\n",
       " 0.983284  0.983284  0.983284  0.983284  …  0.983284  0.983284  0.983284\n",
       " 0.983284  0.983284  0.983284  0.983284     0.983284  0.983284  0.983284\n",
       " 0.983284  0.983284  0.983284  0.983284     0.983284  0.983284  0.983284\n",
       " 0.983284  0.983284  0.983284  0.983284     0.983284  0.983284  0.983284\n",
       " 0.983284  0.983284  0.983284  0.983284     0.983284  0.983284  0.983284\n",
       " 0.983284  0.983284  0.983284  0.983284  …  0.983284  0.983284  0.983284\n",
       " 0.983284  0.983284  0.983284  0.983284     0.983284  0.983284  0.983284\n",
       " 0.983284  0.983284  0.983284  0.983284     0.983284  0.983284  0.983284\n",
       " 0.983284  0.983284  0.983284  0.983284     0.983284  0.983284  0.983284\n",
       " 0.983284  0.983284  0.983284  0.983284     0.983284  0.983284  0.983284\n",
       " 0.983284  0.983284  0.983284  0.983284  …  0.983284  0.983284  0.983284,251x21 Array{Float64,2}:\n",
       " 9.04594e-316  0.0           0.0           …  8.7559e-316    8.76896e-316\n",
       " 8.19649e-316  8.76708e-316  8.76718e-316     8.76886e-316   8.76895e-316\n",
       " 0.0           8.76708e-316  8.76718e-316     6.94537e-310   8.76896e-316\n",
       " 0.0           2.47033e-323  8.76718e-316     8.76886e-316   6.94537e-310\n",
       " 8.76698e-316  2.122e-314    8.76715e-316     8.7559e-316    8.76896e-316\n",
       " 8.76698e-316  0.0           2.122e-314    …  8.76886e-316   8.76895e-316\n",
       " 8.76698e-316  0.0           4.94066e-324     6.94537e-310   8.76896e-316\n",
       " 8.76699e-316  3.25939e-311  0.0              8.76886e-316   8.76896e-316\n",
       " 2.122e-314    6.36599e-314  8.76718e-316     8.7559e-316    8.76896e-316\n",
       " 0.0           3.18299e-313  8.76718e-316     8.76887e-316   8.77013e-316\n",
       " 0.0           0.0           0.0           …  4.44659e-323   8.76896e-316\n",
       " 0.0           0.0           2.76235e-318     8.76887e-316   8.77015e-316\n",
       " 8.76698e-316  0.0           0.0              8.7559e-316    8.76897e-316\n",
       " ⋮                                         ⋱                 ⋮           \n",
       " 8.76707e-316  8.76717e-316  0.0              8.76896e-316   8.76904e-316\n",
       " 8.76707e-316  8.76718e-316  3.25939e-311  …  8.76594e-316   8.76906e-316\n",
       " 8.76708e-316  2.122e-314    6.36599e-314     8.76896e-316   8.76904e-316\n",
       " 8.76705e-316  4.94066e-324  2.122e-313       8.77011e-316   8.76906e-316\n",
       " 2.122e-314    8.76718e-316  0.0              8.76896e-316   6.94537e-310\n",
       " 4.94066e-324  2.122e-314    0.0              8.76895e-316   8.76906e-316\n",
       " 8.76713e-316  4.94066e-324  0.0           …  8.76896e-316   8.76904e-316\n",
       " 2.122e-314    8.76708e-316  3.4196e-316      8.76895e-316   8.76906e-316\n",
       " 4.94066e-324  2.122e-314    0.0              8.76896e-316  96.0         \n",
       " 0.0           4.94066e-324  8.76727e-316     8.76895e-316   8.76906e-316\n",
       " 2.76235e-318  0.0           0.0              8.76896e-316  96.0         \n",
       " 0.0           2.76235e-318  8.76727e-316  …  8.76895e-316   8.76906e-316)"
      ]
     },
     "execution_count": 4,
     "metadata": {},
     "output_type": "execute_result"
    }
   ],
   "source": [
    "ae = ArellanoEconomy(   β=.953,     # time discount rate\n",
    "                        γ=2.,       # risk aversion\n",
    "                        r=0.017,    # international interest rate\n",
    "                        ρ=.945,     # persistence in output \n",
    "                        η=0.025,    # st dev of output shock\n",
    "                        θ=0.282,    # prob of regaining access \n",
    "                        ny=21,      # number of points in y grid\n",
    "                        nB=251)     # number of points in B grid"
   ]
  },
  {
   "cell_type": "markdown",
   "metadata": {},
   "source": [
    "Compute the bond price schedule as seen in figure 3 of Arellano (2008)"
   ]
  },
  {
   "cell_type": "code",
   "execution_count": 5,
   "metadata": {
    "collapsed": false
   },
   "outputs": [
    {
     "ename": "LoadError",
     "evalue": "np not defined\nwhile loading In[5], in expression starting on line 3",
     "output_type": "error",
     "traceback": [
      "np not defined\nwhile loading In[5], in expression starting on line 3",
      ""
     ]
    }
   ],
   "source": [
    "#-!-EDIT-!-#\n",
    "# Create \"Y High\" and \"Y Low\" values as 5% devs from mean\n",
    "high, low = np.mean(ae.ygrid)*1.05, np.mean(ae.ygrid)*.95\n",
    "iy_high, iy_low = (np.searchsorted(ae.ygrid, x) for x in (high, low))\n",
    "\n",
    "fig, ax = plt.subplots(figsize=(10, 6.5))\n",
    "ax.set_title(\"Bond price schedule $q(y, B')$\")\n",
    "\n",
    "# Extract a suitable plot grid\n",
    "x = []\n",
    "q_low = []\n",
    "q_high = []\n",
    "for i:ae.nB\n",
    "    b = ae.Bgrid[i]\n",
    "    if -0.35 <= b <= 0:  # To match fig 3 of Arellano\n",
    "        x.append(b)\n",
    "        q_low.append(ae.Q[iy_low, i])\n",
    "        q_high.append(ae.Q[iy_high, i])\n",
    "    end\n",
    "end\n",
    "ax.plot(x, q_high, label=r\"$y_H$\", lw=2, alpha=0.7)\n",
    "ax.plot(x, q_low, label=r\"$y_L$\", lw=2, alpha=0.7)\n",
    "ax.set_xlabel(r\"$B'$\")\n",
    "ax.legend(loc='upper left', frameon=False)\n",
    "plt.show()"
   ]
  },
  {
   "cell_type": "markdown",
   "metadata": {},
   "source": [
    "Draw a plot of the value functions"
   ]
  },
  {
   "cell_type": "code",
   "execution_count": null,
   "metadata": {
    "collapsed": true
   },
   "outputs": [],
   "source": [
    "#-!-EDIT-!-#\n",
    "# Create \"Y High\" and \"Y Low\" values as 5% devs from mean\n",
    "high, low = np.mean(ae.ygrid)*1.05, np.mean(ae.ygrid)*.95\n",
    "iy_high, iy_low = (np.searchsorted(ae.ygrid, x) for x in (high, low))\n",
    "\n",
    "fig, ax = plt.subplots(figsize=(10, 6.5))\n",
    "ax.set_title(\"Value Functions\")\n",
    "ax.plot(ae.Bgrid, ae.V[iy_high], label=r\"$y_H$\", lw=2, alpha=0.7)\n",
    "ax.plot(ae.Bgrid, ae.V[iy_low], label=r\"$y_L$\", lw=2, alpha=0.7)\n",
    "ax.legend(loc='upper left')\n",
    "ax.set_xlabel(r\"$B$\")\n",
    "ax.set_ylabel(r\"$V(y, B)$\")\n",
    "ax.set_xlim(ae.Bgrid.min(), ae.Bgrid.max())\n",
    "plt.show()"
   ]
  },
  {
   "cell_type": "markdown",
   "metadata": {},
   "source": [
    "Draw a heat map for default probability"
   ]
  },
  {
   "cell_type": "code",
   "execution_count": null,
   "metadata": {
    "collapsed": true
   },
   "outputs": [],
   "source": [
    "#-!-EDIT-!-#\n",
    "xx, yy = ae.Bgrid, ae.ygrid\n",
    "zz = ae.default_prob\n",
    "\n",
    "# Create figure\n",
    "fig, ax = plt.subplots(figsize=(10, 6.5))\n",
    "fig.suptitle(\"Probability of Default\")\n",
    "hm = ax.pcolormesh(xx, yy, zz)\n",
    "cax = fig.add_axes([.92, .1, .02, .8])\n",
    "fig.colorbar(hm, cax=cax)\n",
    "ax.axis([xx.min(), 0.05, yy.min(), yy.max()])\n",
    "ax.set_xlabel(r\"$B'$\")\n",
    "ax.set_ylabel(r\"$y$\")\n",
    "plt.show()"
   ]
  },
  {
   "cell_type": "markdown",
   "metadata": {},
   "source": [
    "Plot a time series of major variables simulated from the model."
   ]
  },
  {
   "cell_type": "code",
   "execution_count": null,
   "metadata": {
    "collapsed": true
   },
   "outputs": [],
   "source": [
    "#-!-EDIT-!-#\n",
    "T = 250\n",
    "y_vec, B_vec, q_vec, default_vec = ae.simulate(T)\n",
    "\n",
    "# Pick up default start and end dates\n",
    "start_end_pairs = []\n",
    "i = 0\n",
    "while i < len(default_vec):\n",
    "    if default_vec[i] == 0:\n",
    "        i += 1\n",
    "    else:\n",
    "        # If we get to here we're in default\n",
    "        start_default = i\n",
    "        while i < len(default_vec) and default_vec[i] == 1:\n",
    "            i += 1\n",
    "        end\n",
    "        end_default = i - 1\n",
    "        start_end_pairs.append((start_default, end_default))\n",
    "    end\n",
    "end\n",
    "plot_series = y_vec, B_vec, q_vec\n",
    "titles = 'output', 'foreign assets', 'bond price'\n",
    "\n",
    "fig, axes = plt.subplots(len(plot_series), 1, figsize=(10, 12))\n",
    "p_args = {'lw': 2, 'alpha': 0.7}\n",
    "fig.subplots_adjust(hspace=0.3)\n",
    "\n",
    "#-!-EDIT-!-#\n",
    "for ax, series, title in zip(axes, plot_series, titles):\n",
    "    # determine suitable y limits\n",
    "    s_max, s_min = max(series), min(series)\n",
    "    s_range = s_max - s_min\n",
    "    y_max = s_max + s_range * 0.1\n",
    "    y_min = s_min - s_range * 0.1\n",
    "    ax.set_ylim(y_min, y_max)\n",
    "    for pair in start_end_pairs:\n",
    "        ax.fill_between(pair, (y_min, y_min), (y_max, y_max), color='k', alpha=0.3)\n",
    "        \n",
    "    ax.grid()\n",
    "    ax.set_title(title)\n",
    "    ax.plot(range(T), series, **p_args)\n",
    "    ax.set_xlabel(r\"time\")\n",
    "\n",
    "plt.show()"
   ]
  }
 ],
 "metadata": {
  "kernelspec": {
   "display_name": "Julia 0.3.11",
   "language": "julia",
   "name": "julia-0.3"
  },
  "language_info": {
   "file_extension": ".jl",
   "mimetype": "application/julia",
   "name": "julia",
   "version": "0.3.11"
  }
 },
 "nbformat": 4,
 "nbformat_minor": 0
}
