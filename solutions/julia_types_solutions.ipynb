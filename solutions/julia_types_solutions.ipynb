{
 "metadata": {
  "language": "Julia",
  "name": "",
  "signature": "sha256:0f9942ce127afc906664d05edebc35c4c488e424ad4082b63e999ee91f6bd0ee"
 },
 "nbformat": 3,
 "nbformat_minor": 0,
 "worksheets": [
  {
   "cells": [
    {
     "cell_type": "heading",
     "level": 1,
     "metadata": {},
     "source": [
      "quant-econ Solutions: Types and Methods"
     ]
    },
    {
     "cell_type": "markdown",
     "metadata": {},
     "source": [
      "Solutions for http://quant-econ.net/jl/julia_types_methods.html"
     ]
    },
    {
     "cell_type": "heading",
     "level": 2,
     "metadata": {},
     "source": [
      "Exercise 1"
     ]
    },
    {
     "cell_type": "markdown",
     "metadata": {},
     "source": [
      "Let's start with the AR1 definition as specified in the lecture"
     ]
    },
    {
     "cell_type": "code",
     "collapsed": false,
     "input": [
      "using Distributions\n",
      "\n",
      "type AR1\n",
      "    a::Real\n",
      "    b::Real\n",
      "    sigma::Real\n",
      "    phi::Distribution\n",
      "end"
     ],
     "language": "python",
     "metadata": {},
     "outputs": [],
     "prompt_number": 1
    },
    {
     "cell_type": "markdown",
     "metadata": {},
     "source": [
      "Now let's write the function to simulate AR1s"
     ]
    },
    {
     "cell_type": "code",
     "collapsed": false,
     "input": [
      "function simulate(m::AR1, n::Integer, x0::Real)\n",
      "    X = Array(Float64, n)\n",
      "    X[1] = x0\n",
      "    for t in 1:(n-1)\n",
      "        X[t+1] = m.a * X[t] + m.b + rand(m.phi)\n",
      "    end\n",
      "    return X\n",
      "end"
     ],
     "language": "python",
     "metadata": {},
     "outputs": [
      {
       "metadata": {},
       "output_type": "pyout",
       "prompt_number": 2,
       "text": [
        "simulate (generic function with 1 method)"
       ]
      }
     ],
     "prompt_number": 2
    },
    {
     "cell_type": "markdown",
     "metadata": {},
     "source": [
      "Let's test it out on the AR(1) process discussed in the lecture"
     ]
    },
    {
     "cell_type": "code",
     "collapsed": false,
     "input": [
      "m = AR1(0.9, 1, 1, Beta(5, 5))"
     ],
     "language": "python",
     "metadata": {},
     "outputs": [
      {
       "metadata": {},
       "output_type": "pyout",
       "prompt_number": 4,
       "text": [
        "AR1(0.9,1,1,Beta( alpha=5.0 beta=5.0 ))"
       ]
      }
     ],
     "prompt_number": 4
    },
    {
     "cell_type": "code",
     "collapsed": false,
     "input": [
      "X = simulate(m, 100, 0.0)"
     ],
     "language": "python",
     "metadata": {},
     "outputs": [
      {
       "metadata": {},
       "output_type": "pyout",
       "prompt_number": 5,
       "text": [
        "100-element Array{Float64,1}:\n",
        "  0.0    \n",
        "  1.55114\n",
        "  2.89042\n",
        "  3.86917\n",
        "  5.03387\n",
        "  5.78658\n",
        "  6.72105\n",
        "  7.4407 \n",
        "  8.12746\n",
        "  9.09007\n",
        "  9.48285\n",
        "  9.9543 \n",
        " 10.6847 \n",
        "  \u22ee      \n",
        " 15.3268 \n",
        " 15.3625 \n",
        " 15.3422 \n",
        " 15.43   \n",
        " 15.2687 \n",
        " 15.1977 \n",
        " 15.3189 \n",
        " 15.137  \n",
        " 15.244  \n",
        " 15.0426 \n",
        " 15.0132 \n",
        " 15.08   "
       ]
      }
     ],
     "prompt_number": 5
    },
    {
     "cell_type": "markdown",
     "metadata": {},
     "source": [
      "Next let's plot the time series to see what it looks like"
     ]
    },
    {
     "cell_type": "code",
     "collapsed": false,
     "input": [
      "using PyPlot"
     ],
     "language": "python",
     "metadata": {},
     "outputs": [
      {
       "output_type": "stream",
       "stream": "stderr",
       "text": [
        "INFO: Loading help data...\n"
       ]
      }
     ],
     "prompt_number": 6
    },
    {
     "cell_type": "code",
     "collapsed": false,
     "input": [
      "plot(X)"
     ],
     "language": "python",
     "metadata": {},
     "outputs": [
      {
       "metadata": {},
       "output_type": "display_data",
       "png": "[encoded data removed]",
       "text": [
        "Figure(PyObject <matplotlib.figure.Figure object at 0x7f97e9e54c10>)"
       ]
      },
      {
       "metadata": {},
       "output_type": "pyout",
       "prompt_number": 7,
       "text": [
        "1-element Array{Any,1}:\n",
        " PyObject <matplotlib.lines.Line2D object at 0x7f9804cd0c10>"
       ]
      }
     ],
     "prompt_number": 7
    },
    {
     "cell_type": "heading",
     "level": 2,
     "metadata": {},
     "source": [
      "Exercise 2"
     ]
    },
    {
     "cell_type": "markdown",
     "metadata": {},
     "source": [
      "Here's the function to act on integers"
     ]
    },
    {
     "cell_type": "code",
     "collapsed": false,
     "input": [
      "function f(k::Integer)\n",
      "    @assert k > 0 \"k must be a natural number\"\n",
      "    z = randn(k)\n",
      "    return sum(z.^2)\n",
      "end"
     ],
     "language": "python",
     "metadata": {},
     "outputs": [
      {
       "metadata": {},
       "output_type": "pyout",
       "prompt_number": 1,
       "text": [
        "f (generic function with 1 method)"
       ]
      }
     ],
     "prompt_number": 1
    },
    {
     "cell_type": "markdown",
     "metadata": {},
     "source": [
      "Let's test it"
     ]
    },
    {
     "cell_type": "code",
     "collapsed": false,
     "input": [
      "f(3)"
     ],
     "language": "python",
     "metadata": {},
     "outputs": [
      {
       "metadata": {},
       "output_type": "pyout",
       "prompt_number": 2,
       "text": [
        "0.5287765508883319"
       ]
      }
     ],
     "prompt_number": 2
    },
    {
     "cell_type": "markdown",
     "metadata": {},
     "source": [
      "Calls with non-integer arguments will raise a \"no matching method\" error"
     ]
    },
    {
     "cell_type": "code",
     "collapsed": false,
     "input": [
      "f(3.5)"
     ],
     "language": "python",
     "metadata": {},
     "outputs": [
      {
       "ename": "LoadError",
       "evalue": "`f` has no method matching f(::Float64)\nwhile loading In[3], in expression starting on line 1",
       "output_type": "pyerr",
       "traceback": [
        "`f` has no method matching f(::Float64)\nwhile loading In[3], in expression starting on line 1",
        ""
       ]
      }
     ],
     "prompt_number": 3
    },
    {
     "cell_type": "markdown",
     "metadata": {},
     "source": [
      "Calls with integers less than 1 will trigger an assertion failure inside the function body"
     ]
    },
    {
     "cell_type": "code",
     "collapsed": false,
     "input": [
      "f(-2)"
     ],
     "language": "python",
     "metadata": {},
     "outputs": [
      {
       "ename": "LoadError",
       "evalue": "assertion failed: k must be a natural number\nwhile loading In[4], in expression starting on line 1",
       "output_type": "pyerr",
       "traceback": [
        "assertion failed: k must be a natural number\nwhile loading In[4], in expression starting on line 1",
        "",
        " in f at In[1]:2"
       ]
      }
     ],
     "prompt_number": 4
    },
    {
     "cell_type": "markdown",
     "metadata": {},
     "source": [
      "Now let's add the version that works on vectors.  The notation we'll use is slightly different to what we saw in the lectures.  We are using parametric types to indicate that ``f`` will act on vectors of the form ``Array{T, 1}`` where ``T`` is a subtype ``Integer``"
     ]
    },
    {
     "cell_type": "code",
     "collapsed": false,
     "input": [
      "function f{T <: Integer}(k_vec::Array{T, 1})\n",
      "    for k in k_vec\n",
      "        @assert k > 0 \"Each integer must be a natural number\"\n",
      "    end\n",
      "    n = length(k_vec)\n",
      "    draws = Array(Float64, n)\n",
      "    for i in 1:n\n",
      "        z = randn(k_vec[i])\n",
      "        draws[i] = sum(z.^2)\n",
      "    end\n",
      "    return draws\n",
      "end"
     ],
     "language": "python",
     "metadata": {},
     "outputs": [
      {
       "metadata": {},
       "output_type": "pyout",
       "prompt_number": 5,
       "text": [
        "f (generic function with 2 methods)"
       ]
      }
     ],
     "prompt_number": 5
    },
    {
     "cell_type": "markdown",
     "metadata": {},
     "source": [
      "Let's test it"
     ]
    },
    {
     "cell_type": "code",
     "collapsed": false,
     "input": [
      "f([2, 4, 6])"
     ],
     "language": "python",
     "metadata": {},
     "outputs": [
      {
       "metadata": {},
       "output_type": "pyout",
       "prompt_number": 6,
       "text": [
        "3-element Array{Float64,1}:\n",
        " 0.563341\n",
        " 0.572163\n",
        " 8.54466 "
       ]
      }
     ],
     "prompt_number": 6
    },
    {
     "cell_type": "markdown",
     "metadata": {},
     "source": [
      "The first version of ``f`` continues to work as before when we call it on scalars"
     ]
    },
    {
     "cell_type": "code",
     "collapsed": false,
     "input": [
      "f(2)"
     ],
     "language": "python",
     "metadata": {},
     "outputs": [
      {
       "metadata": {},
       "output_type": "pyout",
       "prompt_number": 7,
       "text": [
        "1.5935348625659311"
       ]
      }
     ],
     "prompt_number": 7
    },
    {
     "cell_type": "code",
     "collapsed": false,
     "input": [
      "@which(f(2))"
     ],
     "language": "python",
     "metadata": {},
     "outputs": [
      {
       "html": [
        "f(k::<b>Integer</b>) at In[1]:2"
       ],
       "metadata": {},
       "output_type": "pyout",
       "prompt_number": 8,
       "text": [
        "f(k::Integer) at In[1]:2"
       ]
      }
     ],
     "prompt_number": 8
    },
    {
     "cell_type": "code",
     "collapsed": false,
     "input": [
      "@which(f([2, 3]))"
     ],
     "language": "python",
     "metadata": {},
     "outputs": [
      {
       "html": [
        "f<i>{T<:Integer}</i>(k_vec::<b>Array{T<:Integer,1}</b>) at In[5]:2"
       ],
       "metadata": {},
       "output_type": "pyout",
       "prompt_number": 9,
       "text": [
        "f{T<:Integer}(k_vec::Array{T<:Integer,1}) at In[5]:2"
       ]
      }
     ],
     "prompt_number": 9
    },
    {
     "cell_type": "code",
     "collapsed": false,
     "input": [],
     "language": "python",
     "metadata": {},
     "outputs": []
    }
   ],
   "metadata": {}
  }
 ]
}