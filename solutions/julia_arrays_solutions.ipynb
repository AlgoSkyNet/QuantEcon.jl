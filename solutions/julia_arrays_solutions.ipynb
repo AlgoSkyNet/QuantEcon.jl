{
 "metadata": {
  "language": "Julia",
  "name": "",
  "signature": "sha256:fcb40123f500611cb28592a7842997a08a389f71e323511e63466732803b1202"
 },
 "nbformat": 3,
 "nbformat_minor": 0,
 "worksheets": [
  {
   "cells": [
    {
     "cell_type": "heading",
     "level": 1,
     "metadata": {},
     "source": [
      "quant-econ Solutions: Vectors, Arrays and Matrices"
     ]
    },
    {
     "cell_type": "markdown",
     "metadata": {},
     "source": [
      "Solutions for http://quant-econ.net/julia_arrays.html"
     ]
    },
    {
     "cell_type": "heading",
     "level": 2,
     "metadata": {},
     "source": [
      "Exercise 1"
     ]
    },
    {
     "cell_type": "markdown",
     "metadata": {},
     "source": [
      "Here's the iterative approach"
     ]
    },
    {
     "cell_type": "code",
     "collapsed": false,
     "input": [
      "function compute_asymptotic_var(A, Sigma, tolerance=1e-6)\n",
      "    V = Sigma * Sigma'\n",
      "    S = V\n",
      "    err = tolerance + 1\n",
      "    while err > tolerance\n",
      "        next_S = A * S * A' + V\n",
      "        err = norm(S - next_S)\n",
      "        S = next_S\n",
      "    end\n",
      "    return S\n",
      "end"
     ],
     "language": "python",
     "metadata": {},
     "outputs": [
      {
       "metadata": {},
       "output_type": "pyout",
       "prompt_number": 1,
       "text": [
        "compute_asymptotic_var (generic function with 2 methods)"
       ]
      }
     ],
     "prompt_number": 1
    },
    {
     "cell_type": "code",
     "collapsed": false,
     "input": [
      "A =     [0.8 -0.2; \n",
      "        -0.1 0.7]\n",
      "Sigma = [0.5 0.4;\n",
      "         0.4 0.6]"
     ],
     "language": "python",
     "metadata": {},
     "outputs": [
      {
       "metadata": {},
       "output_type": "pyout",
       "prompt_number": 2,
       "text": [
        "2x2 Array{Float64,2}:\n",
        " 0.5  0.4\n",
        " 0.4  0.6"
       ]
      }
     ],
     "prompt_number": 2
    },
    {
     "cell_type": "markdown",
     "metadata": {},
     "source": [
      "Note that all eigenvalues of $A$ lie inside the unit disc:"
     ]
    },
    {
     "cell_type": "code",
     "collapsed": false,
     "input": [
      "eigmax(A)"
     ],
     "language": "python",
     "metadata": {},
     "outputs": [
      {
       "metadata": {},
       "output_type": "pyout",
       "prompt_number": 3,
       "text": [
        "0.9"
       ]
      }
     ],
     "prompt_number": 3
    },
    {
     "cell_type": "markdown",
     "metadata": {},
     "source": [
      "Let's compute the asymptotic variance:"
     ]
    },
    {
     "cell_type": "code",
     "collapsed": false,
     "input": [
      "compute_asymptotic_var(A, Sigma)"
     ],
     "language": "python",
     "metadata": {},
     "outputs": [
      {
       "metadata": {},
       "output_type": "pyout",
       "prompt_number": 4,
       "text": [
        "2x2 Array{Float64,2}:\n",
        " 0.671228  0.633476\n",
        " 0.633476  0.858874"
       ]
      }
     ],
     "prompt_number": 4
    },
    {
     "cell_type": "markdown",
     "metadata": {},
     "source": [
      "Now let's do the same thing using QuantEcon's ``solve_discrete_lyapunov()`` function and check we get the same result"
     ]
    },
    {
     "cell_type": "code",
     "collapsed": false,
     "input": [
      "using QuantEcon"
     ],
     "language": "python",
     "metadata": {},
     "outputs": [],
     "prompt_number": 6
    },
    {
     "cell_type": "code",
     "collapsed": false,
     "input": [
      "solve_discrete_lyapunov(A, Sigma * Sigma')"
     ],
     "language": "python",
     "metadata": {},
     "outputs": [
      {
       "metadata": {},
       "output_type": "pyout",
       "prompt_number": 7,
       "text": [
        "2x2 Array{Float64,2}:\n",
        " 0.671231  0.633474\n",
        " 0.633474  0.858874"
       ]
      }
     ],
     "prompt_number": 7
    }
   ],
   "metadata": {}
  }
 ]
}